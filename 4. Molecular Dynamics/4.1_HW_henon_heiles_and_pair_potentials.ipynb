{
 "cells": [
  {
   "cell_type": "markdown",
   "metadata": {},
   "source": [
    "# Assignment 5: Henon Heiles and Pair Potentials #\n",
    "\n",
    "**Due Date: Tuesday, March 5th, 2024 at 11:59PM**\n",
    "\n",
    "**To submit your homework:**\n",
    "1. Name this file hw5.ipynb. Dropbox will automatically add your name to the file name. Please make sure you are not logged into someone else's dropbox account when submitting the homework. \n",
    "2. Submit your homework [here](https://www.dropbox.com/request/6IozkuYeb6msLRPvGI2S).\n",
    "3. If you submitted your homework but want to update the submission, submit a second file where the name is changed by adding \"-final\" to the end of the file name. For example, \"hw5-final.ipynb\" would be the update."
   ]
  },
  {
   "cell_type": "markdown",
   "metadata": {},
   "source": [
    "## Problem 1: Simulating a Henon Heiles System ##\n",
    "\n",
    "**Task 1.1:** Consider the Henon-Heiles system with Hamiltonian\n",
    "  \n",
    "$$ H = \\frac{p_x^2 + p_y^2}{2} + V(x,y) $$\n",
    "\n",
    "and potential energy\n",
    "\n",
    "$$ V(x,y) = \\frac{x^2 + y^2}{2} + x^2y - \\frac{y^3}{3} $$\n",
    "\n",
    "We can think of this system as a model for two coupled oscillators. Models of this kind are often used in the study of intramolecular vibrational energy transfer. Write a function to integrate the equations of motion for x and y where,\n",
    "\n",
    "*input:*   `x_0`, `y_0`, `py_0`, `E_0`, `tmax`, `h`  \n",
    "\n",
    "*output:*  `t`, `x_values`, `y_values`, `px_values`, `py_values`, `E_values`,\n",
    "\n",
    "where `tmax` is the total time for the simulation run, `h` is the time step, and `E_values` are the energies defined by the Hamiltonian. Note that the input does not define `px_values[0]`. The values of `x_0`, `y_0` and `py_0` must be chosen so that the total energy can be `E_0` with $p_x \\geq 0$. Use the position Verlet, velocity Verlet, or velocity-corrected Verlet integrator.\n",
    "\n",
    "*Write your solution in the cell below*"
   ]
  },
  {
   "cell_type": "code",
   "execution_count": null,
   "metadata": {},
   "outputs": [],
   "source": []
  },
  {
   "cell_type": "markdown",
   "metadata": {},
   "source": [
    "**Task 1.2:** Examine the stability of the energy as a function of the timestep over $10^3$ time units. Plot the energy as a function of time for your optimal time step (one which combines good energy conservation with efficiency).\n",
    "\n",
    "*Write your solutiom in the cell below*"
   ]
  },
  {
   "cell_type": "code",
   "execution_count": null,
   "metadata": {},
   "outputs": [],
   "source": []
  },
  {
   "cell_type": "markdown",
   "metadata": {},
   "source": [
    "**Task 1.3:** Construct a Poincarè surface of section in ($y$, $p_y$) for two or more of the energies, 1/24, 1/12, 1/8, and 1/6, of the Henon-Heiles system by running dynamics trajectories each on the order of $10^3$ time units starting from a number of initial conditions. *Note: You may need to run many trajectories before selecting a subset that covers the surface of section.*\n",
    "\n",
    "*Write your solution in the cell below*"
   ]
  },
  {
   "cell_type": "code",
   "execution_count": null,
   "metadata": {},
   "outputs": [],
   "source": []
  },
  {
   "cell_type": "markdown",
   "metadata": {},
   "source": [
    "**Task 1.4:** Construct a Poincarè surface of section in ($y$, $p_y$) for the modified Henon-Heiles system with potential energy\n",
    "\n",
    "$$ V(x,y) = \\frac{x^2 + y^2}{2} + x^2y + \\frac{y^3}{3} $$\n",
    "\n",
    "Run dynamics trajectories each on the order of $10^3$ time units starting from a number of initial conditions. Chose one or two energies, E < 1/12 (so that the motion is bounded). Compare your results with the results from *Task 1.3*.\n",
    "\n",
    "*Write your solution in the cell below*"
   ]
  },
  {
   "cell_type": "code",
   "execution_count": null,
   "metadata": {},
   "outputs": [],
   "source": []
  },
  {
   "cell_type": "markdown",
   "metadata": {},
   "source": [
    "***\n",
    "\n",
    "## Problem 2: The Lennard Jones potential ##\n",
    "\n",
    "Consider the Lennard-Jones (LJ) 6-12 potential, which is commonly used to model non-bonding interactions between molecules:\n",
    "\n",
    "$${\\displaystyle V_{\\text{LJ}}(r)=4\\varepsilon \\left[\\left({\\frac {\\sigma }{r}}\\right)^{12}-\\left({\\frac {\\sigma }{r}}\\right)^{6}\\right]}$$\n",
    "\n",
    "The LJ potential is commonly used to model atomic fluids composed of inert elements such as Neon, Argon, and Xenon.  It accounts for dispersion attraction at longer distances, through the $r^{-6}$ term, and the electron-electron repulsion at short distances, through the $r^{-12}$ term.  The potential energy function depends on two parameters: $\\epsilon$ representing the depth of the attractive potential energy well and $\\sigma$ the diameter of the atom.\n",
    "\n",
    "**Task 2.1:** Plot the LJ potential energy function over the range of $0 < r < 4\\sigma$.  Use reduced units where the atom mass, atom diameter, and well-depth are set to unity and the LJ potential takes the form:\n",
    "\n",
    "$${\\displaystyle V_{\\text{LJ}}(r)=4 \\left[\\left({\\frac {1}{r}}\\right)^{12}-\\left({\\frac {1}{r}}\\right)^{6}\\right]}$$\n",
    "\n",
    "Color the line used to represent the potential energy red, in regions where the force is repulsive, and blue, in regions where the force is attractive.\n",
    "\n",
    "*Write your solution in the cell below*"
   ]
  },
  {
   "cell_type": "code",
   "execution_count": null,
   "metadata": {},
   "outputs": [],
   "source": []
  },
  {
   "cell_type": "markdown",
   "metadata": {},
   "source": [
    "**Task 2.2:** Differentiate the LJ potential energy with respect to $r$ to determine the force:\n",
    "\n",
    "$$F(r) = - \\frac{dV(r)}{dr}$$\n",
    "\n",
    "Plot the force over the range $0 < r < 4\\sigma$.  Color the line used to represent the force red, in regions where the force is repulsive, and blue, in regions where the force is attractive.\n",
    "\n",
    "*Write your solution in the cell below*"
   ]
  },
  {
   "cell_type": "code",
   "execution_count": null,
   "metadata": {},
   "outputs": [],
   "source": []
  },
  {
   "cell_type": "markdown",
   "metadata": {},
   "source": [
    "**Task 2.3:** Note that $V_{\\text{LJ}}(r=\\sigma)=0$. Determine the distance $r_{\\text{min}}$ at which the force is equal to zero.  Express you result in terms of $\\sigma$.\n",
    "\n",
    "*Write your solution in the cell below*"
   ]
  },
  {
   "cell_type": "code",
   "execution_count": null,
   "metadata": {},
   "outputs": [],
   "source": []
  },
  {
   "cell_type": "markdown",
   "metadata": {},
   "source": [
    "**Task 2.4:** Determine the second derivative of  $V_{\\text{LJ}}(r)$ at the potential energy minimum $V_{\\text{LJ}}^{\\prime \\prime}(r_{\\text{min}})$.  Compare the Taylor series expansion to quadratic order:\n",
    "\n",
    "$$V_{\\text{LJ}}(r) \\simeq V_{\\text{LJ}}(r_{\\text{min}}) + \\frac{1}{2} V_{\\text{LJ}}^{\\prime \\prime}(r_{\\text{min}}) (r-r_{\\text{min}})^2$$\n",
    "\n",
    "Plot your result alongside the exact potential energy function and note those regions where this *harmonic approximation* is valid and regions where it is not.\n",
    "\n",
    "*Write your solution in the cell below*"
   ]
  },
  {
   "cell_type": "code",
   "execution_count": null,
   "metadata": {},
   "outputs": [],
   "source": []
  },
  {
   "cell_type": "markdown",
   "metadata": {},
   "source": [
    "***\n",
    "## Problem 3: The Buckingham Potential ##\n",
    "\n",
    "Consider the Buckingham (Exp-6) potential, which is commonly used to model non-bonding interactions between molecules:\n",
    "\n",
    "$${\\displaystyle V _{\\text{B}}(r)={\\frac {\\varepsilon }{1-6/\\alpha }}\\left[{\\frac {6}{\\alpha }}\\exp \\left[\\alpha \\left(1-{\\frac {r}{r_{min}}}\\right)\\right]-\\left({\\frac {r_{min}}{r}}\\right)^{6}\\right]}$$\n",
    "\n",
    "Here $r_{\\text{min}}$ is the point at which the potential is a minimum, $\\alpha=\\sigma/r_{\\text{min}}$, and $\\varepsilon$ is the potential energy minimum.\n",
    "\n",
    "The Buckingham potential can be used to model atomic fluids composed of inert elements such as Neon, Argon, and Xenon.  It accounts for dispersion attraction at longer distances, through the $r^{-6}$ term, and the electron-electron repulsion at short distances, through the repulsive exponential term.  \n",
    "\n",
    "**Task 3.1:** Plot the Buckingham potential energy function over the range of $0 < r < 4\\sigma$.  Use reduced units where the atom mass, atom diameter, and well-depth are set to unity. Color the line used to represent the potential energy red, in regions where the force is repulsive, and blue, in regions where the force is attractive.\n",
    "\n",
    "*Write your solution in the cell below*"
   ]
  },
  {
   "cell_type": "code",
   "execution_count": null,
   "metadata": {},
   "outputs": [],
   "source": []
  },
  {
   "cell_type": "markdown",
   "metadata": {},
   "source": [
    "**Task 3.2:** Differentiate the Buckingham potential energy with respect to $r$ to determine the force:\n",
    "\n",
    "$$F(r) = - \\frac{dV(r)}{dr}$$\n",
    "\n",
    "Plot the force over the range $0 < r < 4\\sigma$.  Color the line used to represent the force red, in regions where the force is repulsive, and blue, in regions where the force is attractive.\n",
    "\n",
    "*Write your solution in the cell below*"
   ]
  },
  {
   "cell_type": "code",
   "execution_count": null,
   "metadata": {},
   "outputs": [],
   "source": []
  },
  {
   "cell_type": "markdown",
   "metadata": {},
   "source": [
    "**Task 3.3:** Note that $V_{\\text{B}}(r=\\sigma)=0$. Determine the distance $r_{\\text{min}}$ at which the force is equal to zero.  Express you result in terms of $\\sigma$.\n",
    "\n",
    "*Write your solution in the cell below*"
   ]
  },
  {
   "cell_type": "code",
   "execution_count": null,
   "metadata": {},
   "outputs": [],
   "source": []
  },
  {
   "cell_type": "markdown",
   "metadata": {},
   "source": [
    "**Task 3.4:** Determine the second derivative of  $V_{\\text{B}}(r)$ at the potential energy minimum $V_{\\text{B}}^{\\prime \\prime}(r_{\\text{min}})$.  Compare the Taylor series expansion to quadratic order:\n",
    "\n",
    "$$V_{\\text{B}}(r) \\simeq V_{\\text{B}}(r_{\\text{min}}) + \\frac{1}{2} V_{\\text{B}}^{\\prime \\prime}(r_{\\text{min}}) (r-r_{\\text{min}})^2$$\n",
    "\n",
    "Plot your result alongside the exact potential energy function and note those regions where this *harmonic approximation* is valid and regions where it is not.\n",
    "\n",
    "*Write your solution in the cell below*"
   ]
  },
  {
   "cell_type": "code",
   "execution_count": null,
   "metadata": {},
   "outputs": [],
   "source": []
  },
  {
   "cell_type": "markdown",
   "metadata": {},
   "source": [
    "***\n",
    "## Additional Tasks: These are required for graduate students and optional for undergraduate students. Undergraduate students will recieve extra credit for completing them. ##\n",
    "\n",
    "**Additional Task 1:** In many problems it is helpful to characterize the nature of motion in different regions of configuration space. Construct a Poincarè *configurational* surface of section in ($x$, $y$) for two or more of the energies, 1/24, 1/12, 1/8, and 1/6,\n",
    "of the Henon-Heiles system. The configurational surface of section is defined as the set of ($x$, $y$) points for which $p_x = 0$ and $p_y > 0$. Compare your results with the standard surface of section in the ($y$, $p_y$) phase space.\n",
    "\n",
    "*Write your solution in the cell below*"
   ]
  },
  {
   "cell_type": "code",
   "execution_count": null,
   "metadata": {},
   "outputs": [],
   "source": []
  }
 ],
 "metadata": {
  "kernelspec": {
   "display_name": "base",
   "language": "python",
   "name": "python3"
  },
  "language_info": {
   "name": "python",
   "version": "3.11.5"
  }
 },
 "nbformat": 4,
 "nbformat_minor": 2
}
