{
 "cells": [
  {
   "cell_type": "markdown",
   "metadata": {},
   "source": [
    "# Assignment 6: Analyzing your Lennard-Jones Simulation #\n",
    "\n",
    "**Due Date: Tuesday, March 26th, 2024 at 11:59PM**\n",
    "\n",
    "**To submit your homework:**\n",
    "1. Name this file hw6.ipynb. Dropbox will automatically add your name to the file name. Please make sure you are not logged into someone else's dropbox account when submitting the homework. \n",
    "2. Submit your homework [here](https://www.dropbox.com/request/6IozkuYeb6msLRPvGI2S).\n",
    "3. If you submitted your homework but want to update the submission, submit a second file where the name is changed by adding \"-final\" to the end of the file name. For example, \"hw6-final.ipynb\" would be the update."
   ]
  },
  {
   "cell_type": "markdown",
   "metadata": {},
   "source": [
    "## Problem 1: Analyzing the Energy of your System ##\n",
    "\n",
    "*TIP: You do not need to copy the Lennard-Jones Simulation code into this notebook. Just run the simulation and then read the output files into this notebook using: `np.loadtxt()`. To read the positions, forces, and velocity `.xyz` files you can copy the `readXYZ()` function provided in the **most recent** Lennard-Jones Simulation Notebook.*\n",
    "\n",
    "**Task 1.1:** Simulate a Lennard-Jones system of 216 Argon atoms at $T=120K$ with $\\rho=0.0291 \\; mol \\; cm^{-3}$. Choose an appropriate timestep, simulation length, and equilibration length. Produce a plot of your system's total energy, potential energy, kinetic energy, and temperature as a function of time. The total energy should be (approximately) constant throughout the run. The initial time should correspond to the particles being on a lattice with random velocities. The plot should show the system appearing to reach equilibrium.\n",
    "\n",
    "*Enter your solution in the cell below.*"
   ]
  },
  {
   "cell_type": "code",
   "execution_count": null,
   "metadata": {},
   "outputs": [],
   "source": []
  },
  {
   "cell_type": "markdown",
   "metadata": {},
   "source": [
    "**Task 1.2:** Compute the average potential energy in your system using two methods. (1) Calculate the time average of the per particle potential energy over a long dynamics run. (2) Compute the radial distribution function g(r) over the same run. Plot this function. Determine the per particle potential energy using numerical integration to average the potential energy over the pair probability. Compare the two values of the average per particle potential energy. Only collect statistics once the system appears to have reached equilibrium.\n",
    "\n",
    "*Enter your solution in the cell below.*"
   ]
  },
  {
   "cell_type": "code",
   "execution_count": null,
   "metadata": {},
   "outputs": [],
   "source": []
  },
  {
   "cell_type": "markdown",
   "metadata": {},
   "source": [
    "***\n",
    "## Additional Tasks: These are required for graduate students and optional for undergraduate students. Undergraduate students will recieve extra credit for completing them. ##\n",
    "\n",
    "**Additional Task 1:** Explore the rate of self-averaging during your runs using the ergodic measure for the kinetic and potential energy. Examine how this rate changes as a function of temperature for your fluid.\n",
    "\n",
    "*Enter your solution in the cell below.*"
   ]
  },
  {
   "cell_type": "code",
   "execution_count": null,
   "metadata": {},
   "outputs": [],
   "source": []
  }
 ],
 "metadata": {
  "language_info": {
   "name": "python"
  }
 },
 "nbformat": 4,
 "nbformat_minor": 2
}
