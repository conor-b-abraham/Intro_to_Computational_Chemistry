{
 "cells": [
  {
   "cell_type": "markdown",
   "metadata": {},
   "source": [
    "# Assignment 4: Numerically Integrating Differential Equations #\n",
    "\n",
    "**Due Date: Tuesday, February 20th, 2024 at 11:59PM**\n",
    "\n",
    "*IMPORTANT: Some of the following exercises request derivations. The solutions to these should be submitted in a PDF document (do not submit image files!) with the problem numbers clearly labelled. Please write clearly and make sure your work can be clearly read and followed. The Adobe Scan phone app is free for BU students, so please use that (or a similar app or an actual scanner) rather than just taking pictures and converting them into pdfs so that I can easily read your work and leave comments if necessary.* \n",
    "\n",
    "1. Name this file hw4.ipynb. The separate document with your derivations should be submitted as a PDF (No Image Files) and named hw4.pdf. Dropbox will automatically add your name to the file names. Please make sure you are not logged into someone else's dropbox account when submitting the homework. \n",
    "2. Submit your homework [here](https://www.dropbox.com/request/6IozkuYeb6msLRPvGI2S).\n",
    "3. If you submitted your homework but want to update the submission, submit a second file where the name is changed by adding \"-final\" to the end of the file name. For example, \"hw4-final.ipynb\" would be the updated jupyter notebook and/or \"hw4-final.pdf\" would be the updated derivation document."
   ]
  },
  {
   "cell_type": "markdown",
   "metadata": {},
   "source": [
    "***\n",
    "## Problem 1: Euler Method and the \"improved\" 3-point approximation ##\n",
    "**Task 1.1:** Write functions to numerically integrate the equation\n",
    "$$\\frac{dy(x)}{dx} = -y(x)$$\n",
    "$$y(x=0) = 1$$\n",
    "using (1) the primitive Euler method and (2) the \"improved\" 3-point approximation based method discussed in class. For the functions, let\n",
    "*input:*   `N`,  `h` \n",
    "*output:*  `x`, `y_numerical`, `y_exact`, `error`\n",
    "where `N` is the number of steps, `h` is the step size, and `error` = `y` (exact) - `y` (numerical) for each `x`.\n",
    "\n",
    "*Enter your solution in the cell below*"
   ]
  },
  {
   "cell_type": "code",
   "execution_count": null,
   "metadata": {},
   "outputs": [],
   "source": []
  },
  {
   "cell_type": "markdown",
   "metadata": {},
   "source": [
    "**Task 1.2:** Plot the error as a function of the number of iterations to analyze and compare the numerical stability of the integration schemes.\n",
    "\n",
    "*Enter your solution in the cell below*"
   ]
  },
  {
   "cell_type": "code",
   "execution_count": null,
   "metadata": {},
   "outputs": [],
   "source": []
  },
  {
   "cell_type": "markdown",
   "metadata": {},
   "source": [
    "***\n",
    "## Problem 2: Stability analysis of the Adams-Bashforth two-step method ##\n",
    "\n",
    "**Task 2.1:** It is possible to derive integrators of higher accuracy by using values of $y(x)$ further in the past and/or future. One such method is the Adams-Bashforth two-step method:\n",
    "\n",
    "$$y_{n+1} = y_n + \\frac{h}{2} (3 f_n - f_{n-1})$$\n",
    "\n",
    "with a truncation error of order $h^3$.\n",
    "\n",
    "Consider the differential equation\n",
    "\n",
    "$$dy(x)/dx = f(x,y) = -y(x)$$\n",
    "$$y(x=0) = 1$$\n",
    "\n",
    "Use stability analysis to investigate the stability of the Adams-Bashforth algorithm in integrating this equation.\n",
    "\n",
    "*Submit your solution in a separate PDF document. See submission instructions at the top of this Notebook.*\n"
   ]
  },
  {
   "cell_type": "markdown",
   "metadata": {},
   "source": [
    "***\n",
    "## Additional Tasks: These are required for graduate students and optional for undergraduate students. Undergraduate students will recieve extra credit for completing them. ##"
   ]
  },
  {
   "cell_type": "markdown",
   "metadata": {},
   "source": [
    "**Additional Task 1:** In class, we created a function that used the Euler method to integrate a simple harmonic oscillator potential, defined by the two coupled first-order differential equations:\n",
    "\n",
    "$$ \\frac{dv}{dt} = -\\frac{kx}{m} $$\n",
    "$$ \\frac{dx}{dt} = v $$\n",
    "\n",
    "Noting that kinetic energy, $K$, potential energy, $V$, and the oscillators period, $T$, are given by:\n",
    "\n",
    "$$V = \\frac{1}{2} k x^2$$\n",
    "$$K = \\frac{1}{2} mv^2 $$\n",
    "$$ T = 2\\pi \\sqrt{\\frac{m}{k}} $$\n",
    "\n",
    "Write a program to numerically integrate these equations by generalizing the two-step Adams-Bashforth method to this case of two variables (for the Adams-Bashforth algorithm, generate the position prior to the initial value by stepping backwards with Euler's method). Compute the error in $v(t)$ and $x(t)$ in the same fashion we did for the Euler method. \n",
    "\n",
    "For the Adam-Bashforth method and the Euler method, plot the error in $x(t)$ and $v(t)$ as a function of the number of periods and plot the energies ($K(t)$, $V(t)$, and $E(t)$) as a function of time. Do this for three values of the time step size, $h$, so as to demonstrate at what point the algorithms lose accuracy over many periods of oscillation. Compare the methods' conservation of energy for the different values of $h$.\n",
    "\n",
    "*Enter your solution in the cell below*"
   ]
  },
  {
   "cell_type": "code",
   "execution_count": null,
   "metadata": {},
   "outputs": [],
   "source": []
  }
 ],
 "metadata": {
  "language_info": {
   "name": "python"
  }
 },
 "nbformat": 4,
 "nbformat_minor": 2
}
