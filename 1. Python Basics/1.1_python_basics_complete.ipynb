{
 "cells": [
  {
   "cell_type": "markdown",
   "metadata": {},
   "source": [
    "# Python Basics #\n",
    "\n",
    "## Useful Resources ##\n",
    "- [**The Python Website**](https://www.python.org): No matter where you are on your journey with python and programming, the python website is a great place to start developing your skills. They have a very thorough list of tutorials and resources for individuals at all skill levels. \n",
    "- [**Real Python**](https://realpython.com/): A great website with tons of tutorials and learning paths to help you learn and write good python.\n",
    "  - If you're completely new to python and programming, I recommend you start with the [\"Python Basics: Introduction to Python\"](https://realpython.com/learning-paths/python-basics/) Learning Path, and then begin to explore some of the other [learning paths](https://realpython.com/learning-paths/). \n",
    "- [**W3 Schools**](https://www.w3schools.com): Another great website similar to Real Python.\n",
    "- [**Python Notes for Professionals**](https://books.goalkicker.com/PythonBook/): An extensive resource on Python. A great place to look if you are trying to learn a specific topic. \n",
    "- [**Python Data Science Handbook**](https://jakevdp.github.io/PythonDataScienceHandbook/): Once you have a handle on the Python basics, you should learn how to use more advanced libraries such as [Numpy](https://numpy.org/) and [MatPlotLib](https://matplotlib.org/). This book, freely available online, provides detailed explanations of them. The author also has the textbook in Jupyter Notebook format on [his GitHub](https://github.com/jakevdp/PythonDataScienceHandbook/tree/master).\n",
    "- [**PEP8 Style Guide**](https://peps.python.org/pep-0008/): As you improve your python skills you should learn to follow conventional style so that others can read your code more easily. The preferred style for python is called PEP8.\n",
    "- [**Google**](https://www.google.com/), [**Stack Overflow**](https://stackoverflow.com/): Places to look if you have specific questions. *Keep in mind that your homework solutions need to be your own, and relying on others' code will not help you develop the necessary skills to succeed later in this class.*\n",
    "- [**ChatGPT**](https://chat.openai.com/): A place to look if you have VERY specific questions. *Keep in mind that your homework solutions need to be your own, and relying on an AI's code will not help you develop the necessary skills to succeed later in this class. Also, please note that ChatGPT and other tools like it will often give you the wrong answer. Do NOT use it blindly.*"
   ]
  },
  {
   "cell_type": "markdown",
   "metadata": {},
   "source": [
    "## Comments and Printing ##\n",
    "\n",
    "### Comments ###\n",
    "In python, comments are preceeded by a `#`. On a given line, everything that comes after the `#` will not be interpreted and run."
   ]
  },
  {
   "cell_type": "code",
   "execution_count": 1,
   "metadata": {},
   "outputs": [],
   "source": [
    "# You can leave a comment using a hashtag."
   ]
  },
  {
   "cell_type": "markdown",
   "metadata": {},
   "source": [
    "### Printing ###\n",
    "To print information to standard output, you use the `print()` function."
   ]
  },
  {
   "cell_type": "code",
   "execution_count": 2,
   "metadata": {},
   "outputs": [
    {
     "name": "stdout",
     "output_type": "stream",
     "text": [
      "Hello World\n"
     ]
    }
   ],
   "source": [
    "print(\"Hello World\") # This is a print statement. The print function returns its contents to standard output. Also note how you can leave comments after a line of code. "
   ]
  },
  {
   "cell_type": "markdown",
   "metadata": {},
   "source": [
    "## Native Datatypes ##\n",
    "Python has many native datatypes that can be useful in different contexts.\n",
    "\n",
    "| Name | Type | Description | Example |\n",
    "| ---- | ---- | ----------- | ------- |\n",
    "| Integers | `int` | Whole numbers | `3, 3999, 200` |\n",
    "| Floating points | `float` | Numbers with a decimal point | `2.3, 43.4, 100.0` |\n",
    "| Complex numbers | `complex` | Numbers with real and imaginary parts | `4.3+5j, 4+0j` |\n",
    "| Strings | `str` | Ordered sequence of characters | `\"hello\", \"2000\"` |\n",
    "| Booleans | `bool` | Logical Value indicating True or False | `True, False` |\n",
    "| Lists | `list` | Ordered sequence of objects | `[\"hello\", 10, 10000.3]` |\n",
    "| Tuples | `tup` | Ordered immutable sequence of objects | `(\"hello\", 10, 10000.3)` |\n",
    "| Sets | `set` | Unordered collection of unique objects | `{\"a\", \"b\"}` |\n",
    "| Dictionaries | `dict` | Unordered key:value pairs | `{\"mykey\":\"value\", \"name\":\"Conor\"}` |\n"
   ]
  },
  {
   "cell_type": "markdown",
   "metadata": {},
   "source": [
    "### Numbers ###\n",
    "There are multiple types of numbers in python: integers, floating point numbers, and complex numbers.\n",
    "\n",
    "#### Integers ####\n",
    "Integers are whole numbers."
   ]
  },
  {
   "cell_type": "code",
   "execution_count": 3,
   "metadata": {},
   "outputs": [
    {
     "name": "stdout",
     "output_type": "stream",
     "text": [
      "Integer: 3\n"
     ]
    }
   ],
   "source": [
    "# Integers\n",
    "my_integer = 3 \n",
    "print(\"Integer:\", my_integer)"
   ]
  },
  {
   "cell_type": "markdown",
   "metadata": {},
   "source": [
    "#### Floating point numbers ####\n",
    "Floating point numbers are numbers with a decimal point."
   ]
  },
  {
   "cell_type": "code",
   "execution_count": 4,
   "metadata": {},
   "outputs": [
    {
     "name": "stdout",
     "output_type": "stream",
     "text": [
      "Float: 3.351\n",
      "Float: 3.351\n"
     ]
    }
   ],
   "source": [
    "# Floats\n",
    "my_float_1 = 3.351\n",
    "my_float_2 = 33.51E-1 # You can also use 'E' notation\n",
    "print(\"Float:\", my_float_1)\n",
    "print(\"Float:\", my_float_2)"
   ]
  },
  {
   "cell_type": "markdown",
   "metadata": {},
   "source": [
    "#### Complex numbers ####\n",
    "Complex numbers contain a real and imaginary part. You can retrieve the real part with the `.real` attribute and the imaginary part with the `.imag` attribute. "
   ]
  },
  {
   "cell_type": "code",
   "execution_count": 5,
   "metadata": {},
   "outputs": [
    {
     "name": "stdout",
     "output_type": "stream",
     "text": [
      "Complex Number: (5+3j)\n",
      "     Real Part: 5.0 , Imaginary Part: 3.0\n"
     ]
    }
   ],
   "source": [
    "# Complex Numbers\n",
    "my_complex_number = 5+3j\n",
    "print(\"Complex Number:\", my_complex_number)\n",
    "# In python, objects can have attributes. This will be discussed more later. At some point, you might need to make use of the complex number \"real\" and \"imag\" attributes:\n",
    "print(\"     Real Part:\", my_complex_number.real, \", Imaginary Part:\", my_complex_number.imag)"
   ]
  },
  {
   "cell_type": "markdown",
   "metadata": {},
   "source": [
    "#### Math operators ####\n",
    "\n",
    "There are several standard operators you should be familiar with (there are more, but these are the most critical ones to know):\n",
    "\n",
    "| Operator | Result | Description |\n",
    "| -------- | ------ | ----------- |\n",
    "| `x + y` | sum of x and y | addition |\n",
    "| `x - y` | difference of x and y | subtraction |\n",
    "| `x * y` | product of x and y | multiplication |\n",
    "| `x / y` | quotient of x and y | division |\n",
    "| `x // y` | floored quotient of x and y | floor division |\n",
    "| `x % y` | remainder of `x / y` | remainder |\n",
    "| `x ** y` | x to the power of y | exponentiation |\n",
    "| `(expression 1) * (expression 2)` | Performs expression 1 and expression 2, and then multiplies them. | Parenthesis, used to control the order of operations |\n",
    "| `abs(x)` | returns the absolute value of x | absolute value |\n",
    "| `round(x, n)` | returns the floating point number, x, rounded to the nth decimal place | rounds a number |"
   ]
  },
  {
   "cell_type": "code",
   "execution_count": 6,
   "metadata": {},
   "outputs": [
    {
     "name": "stdout",
     "output_type": "stream",
     "text": [
      "15 + 19 = 34\n",
      "28.3 - 13 = 15.3\n",
      "6 * 7 = 42\n",
      "17 / 4 = 4.25\n",
      "17 // 4 = 4\n",
      "17 % 4 = 1\n",
      "3 ** 2 = 9\n",
      "(32 - 5*2) / 9 = 2.4444444444444446\n",
      "abs(-12) = 12\n",
      "round(4.5678) = 5\n",
      "round(4.5678, 3) = 4.568\n"
     ]
    }
   ],
   "source": [
    "# Addition: +\n",
    "add_result = 15 + 19\n",
    "print(\"15 + 19 =\", add_result)\n",
    "\n",
    "# Subtraction\n",
    "subtract_result = 28.3 - 13\n",
    "print(\"28.3 - 13 =\", subtract_result)\n",
    "\n",
    "# Multiplication\n",
    "mult_result = 6 * 7\n",
    "print(\"6 * 7 =\", mult_result)\n",
    "\n",
    "# Division (Always returns a float)\n",
    "div_result = 17 / 4\n",
    "print(\"17 / 4 =\", div_result)\n",
    "\n",
    "# Floor Division (Discards the fraction part of the result and returns an integer)\n",
    "fdiv_result = 17 // 4\n",
    "print(\"17 // 4 =\", fdiv_result)\n",
    "\n",
    "# Remainder\n",
    "rem_result = 17 % 4\n",
    "print(\"17 % 4 =\", rem_result)\n",
    "\n",
    "# Exponents\n",
    "exp_result = 3 ** 2 \n",
    "print(\"3 ** 2 =\", exp_result)\n",
    "\n",
    "# Parenthesis (Used to control the order of operations)\n",
    "combined_result = (32 - 5*2) / 9\n",
    "print(\"(32 - 5*2) / 9 =\", combined_result) \n",
    "\n",
    "# Absolute Value\n",
    "abs_result = abs(-12)\n",
    "print(\"abs(-12) =\", abs(12))\n",
    "\n",
    "# Rounded value\n",
    "round_result = round(4.5678)\n",
    "print(\"round(4.5678) =\", round_result)\n",
    "round_result = round(4.5678, 3)\n",
    "print(\"round(4.5678, 3) =\", round_result)"
   ]
  },
  {
   "cell_type": "markdown",
   "metadata": {},
   "source": [
    "### Strings ###\n",
    "\n",
    "Strings are sequences of characters. We've already started to use strings, but let's dive deeper.\n",
    "\n",
    "You create a string by surrounding it with either double quotes (\" \") or single quotes (' ')"
   ]
  },
  {
   "cell_type": "code",
   "execution_count": 7,
   "metadata": {},
   "outputs": [
    {
     "name": "stdout",
     "output_type": "stream",
     "text": [
      "String 1: What is your name?\n",
      "String 2: What's your name?\n"
     ]
    }
   ],
   "source": [
    "# You can create a string using single quotes\n",
    "my_string_1 = 'What is your name?'\n",
    "print(\"String 1:\", my_string_1)\n",
    "# Or you can create a string using double quotes\n",
    "my_string_2 = \"What's your name?\" # with double quotes you can easily include an apostrophe\n",
    "print(\"String 2:\", my_string_2)"
   ]
  },
  {
   "cell_type": "markdown",
   "metadata": {},
   "source": [
    "You can make multi-line strings using either the newline command `\\n` or triple quotes (\"\"\"  \"\"\")."
   ]
  },
  {
   "cell_type": "code",
   "execution_count": 8,
   "metadata": {},
   "outputs": [
    {
     "name": "stdout",
     "output_type": "stream",
     "text": [
      "Multiline String 1: What's your name?\n",
      "My name is Conor.\n",
      "Multiline String 2: What's your name?\n",
      "My name is Conor.\n"
     ]
    }
   ],
   "source": [
    "# Writing Strings on Multiple Lines:\n",
    "# You can use the newline character '\\n'\n",
    "my_multiline_string_1 = \"Multiline String 1: What's your name?\\nMy name is Conor.\"\n",
    "print(my_multiline_string_1)\n",
    "# Or you can use a multiline string\n",
    "my_multiline_string_2 = \"\"\"Multiline String 2: What's your name?\n",
    "My name is Conor.\"\"\"\n",
    "print(my_multiline_string_2)"
   ]
  },
  {
   "cell_type": "markdown",
   "metadata": {},
   "source": [
    "You can include variables within strings using f-strings"
   ]
  },
  {
   "cell_type": "code",
   "execution_count": 9,
   "metadata": {},
   "outputs": [
    {
     "name": "stdout",
     "output_type": "stream",
     "text": [
      "F-String 1: Remember our integer? This is it: 3.\n",
      "F-String 2: Remember our float? This is it...\n",
      "    ... expressed to 1 decimal point: 3.4\n",
      "    ... expressed to 2 decimal points: 3.35\n",
      "    ... in exponential notation with 2 decimal points: 3.35e+00\n"
     ]
    }
   ],
   "source": [
    "# f-strings: A way to include other variables in a string. Place an 'f' before the leading quote(s) and enclose the variable in curly brackets, {}\n",
    "my_fstring_1 = f\"F-String 1: Remember our integer? This is it: {my_integer}.\"\n",
    "print(my_fstring_1)\n",
    "# you can also format what comes between the curly brackets. There is a TON you can do here, I recommend googling it if you want to learn different ways you can format things.\n",
    "my_fstring_2 = f\"\"\"F-String 2: Remember our float? This is it...\n",
    "    ... expressed to 1 decimal point: {my_float_1:.1f}\n",
    "    ... expressed to 2 decimal points: {my_float_1:.2f}\n",
    "    ... in exponential notation with 2 decimal points: {my_float_1:.2e}\"\"\"\n",
    "print(my_fstring_2)"
   ]
  },
  {
   "cell_type": "markdown",
   "metadata": {},
   "source": [
    "There are also string methods that you might find useful. These are some of the most frequently used:\n",
    "\n",
    "| Method | Description |\n",
    "| ------ | ----------- |\n",
    "| `.upper()` | Returns the string in all caps |\n",
    "| `.lower()` | Returns the string in all lowercase |\n",
    "| `.strip()` | Strips any white-space characters from both ends of the string (e.g. spaces, `\\n` (new line), and `\\t` (tab)). |\n",
    "| `.split()` or `.split(substring)` | Splits a string into a list using either whitespace or a defined substring as a delimiter |"
   ]
  },
  {
   "cell_type": "code",
   "execution_count": 10,
   "metadata": {
    "tags": []
   },
   "outputs": [
    {
     "name": "stdout",
     "output_type": "stream",
     "text": [
      "This is my_string_1, but in all uppercase: WHAT IS YOUR NAME?\n",
      "This is my_string_1, but in all lowercase: what is your name?\n",
      "This is my_messy_string without using .strip():\n",
      "Before String ------------\n",
      "    This is a string\n",
      "\n",
      "AfterString ------------\n",
      "This is my_messy_string after using .strip():\n",
      "Before String ------------\n",
      "This is a string\n",
      "AfterString ------------\n",
      "This is the my_string_1.split(): ['What', 'is', 'your', 'name?']\n",
      "You can use ..split(',') with a chosen delimiter to turn 'String, With, Commas' into ['String', ' With', ' Commas'].\n"
     ]
    }
   ],
   "source": [
    "# In python, objects can also have methods. We'll discuss this more later, but there are a few string methods you might like to know, 'upper()' and 'lower()':\n",
    "print(f\"This is my_string_1, but in all uppercase: {my_string_1.upper()}\")\n",
    "print(f\"This is my_string_1, but in all lowercase: {my_string_1.lower()}\")\n",
    "my_messy_string = \"    This is a string\\n\"\n",
    "print(f\"\"\"This is my_messy_string without using .strip():\n",
    "Before String ------------\n",
    "{my_messy_string}\n",
    "AfterString ------------\"\"\")\n",
    "print(f\"\"\"This is my_messy_string after using .strip():\n",
    "Before String ------------\n",
    "{my_messy_string.strip()}\n",
    "AfterString ------------\"\"\")\n",
    "print(f\"This is the my_string_1.split(): {my_string_1.split()}\")\n",
    "string_with_commas = \"String, With, Commas\"\n",
    "print(f\"You can use ..split(',') with a chosen delimiter to turn '{string_with_commas}' into {string_with_commas.split(',')}.\") "
   ]
  },
  {
   "cell_type": "markdown",
   "metadata": {},
   "source": [
    "### Lists and Tuples ###\n",
    "Lists and tuples are ordered sequences of values. \n",
    "\n",
    "#### Lists ####\n",
    "Lists are mutable, meaning they can be changed after they are created."
   ]
  },
  {
   "cell_type": "code",
   "execution_count": 11,
   "metadata": {},
   "outputs": [
    {
     "name": "stdout",
     "output_type": "stream",
     "text": [
      "List: [1, 3, 2, 4, 5, 6]\n"
     ]
    }
   ],
   "source": [
    "# Lists are surrounded by []\n",
    "my_list = [1, 3, 2, 4, 5, 6]\n",
    "print(f\"List: {my_list}\")"
   ]
  },
  {
   "cell_type": "markdown",
   "metadata": {},
   "source": [
    "Some useful methods for changing lists include `.sort()`, `.append()`, and `.remove()`."
   ]
  },
  {
   "cell_type": "code",
   "execution_count": 12,
   "metadata": {},
   "outputs": [
    {
     "name": "stdout",
     "output_type": "stream",
     "text": [
      "Sorted List: [1, 2, 3, 4, 5, 6]\n",
      "Longer List: [1, 2, 3, 4, 5, 6, 7]\n",
      "List: [1, 2, 3, 4, 5, 6]\n"
     ]
    }
   ],
   "source": [
    "# You can sort lists\n",
    "my_list.sort()\n",
    "print(f\"Sorted List: {my_list}\")\n",
    "\n",
    "# You can also add to lists\n",
    "my_list.append(7)\n",
    "print(f\"Longer List: {my_list}\")\n",
    "\n",
    "# You can remove from lists\n",
    "my_list.remove(7)\n",
    "print(f\"List: {my_list}\")"
   ]
  },
  {
   "cell_type": "markdown",
   "metadata": {},
   "source": [
    "#### Tuples ####\n",
    "Tuples, unlike lists, are immutable, which means that can not be changed once they are created."
   ]
  },
  {
   "cell_type": "code",
   "execution_count": 13,
   "metadata": {},
   "outputs": [
    {
     "name": "stdout",
     "output_type": "stream",
     "text": [
      "Tuple: (1, 3, 2, 4, 5, 6)\n"
     ]
    }
   ],
   "source": [
    "# Tuples are surrounded by ()\n",
    "my_tuple = (1, 3, 2, 4, 5, 6)\n",
    "print(f\"Tuple: {my_tuple}\")"
   ]
  },
  {
   "cell_type": "markdown",
   "metadata": {},
   "source": [
    "#### Indexing lists and tuples ####\n",
    "You can access specific items in a list or tuple using indices with the format. For example, `list[i]` will return the object at index i in the list. Note that you can also index strings like this to get characters at a specific index."
   ]
  },
  {
   "cell_type": "code",
   "execution_count": 14,
   "metadata": {},
   "outputs": [
    {
     "name": "stdout",
     "output_type": "stream",
     "text": [
      "First Element in List: 1\n",
      "Third Element in Tuple: 2\n",
      "Last Element in List: 6\n",
      "Third from Last Element in Tuple: 4\n"
     ]
    }
   ],
   "source": [
    "# You can access specific items in a list or tuple (or any iterable) using its index (the first element in any python iterable is 0)\n",
    "print(f\"First Element in List: {my_list[0]}\")\n",
    "print(f\"Third Element in Tuple: {my_tuple[2]}\")\n",
    "\n",
    "# You can also access elements in a list or tuple from the end using a minus sign\n",
    "print(f\"Last Element in List: {my_list[-1]}\")\n",
    "print(f\"Third from Last Element in Tuple: {my_tuple[-3]}\")"
   ]
  },
  {
   "cell_type": "markdown",
   "metadata": {},
   "source": [
    "### Sets ###\n",
    "\n",
    "Sets are unordered collection of unique objects."
   ]
  },
  {
   "cell_type": "code",
   "execution_count": 15,
   "metadata": {},
   "outputs": [
    {
     "name": "stdout",
     "output_type": "stream",
     "text": [
      "Set 1: {'b', 'a', 'c'}\n"
     ]
    }
   ],
   "source": [
    "# Sets cannot contain duplicates\n",
    "my_set_1 = {\"a\", \"b\", \"c\", \"c\"}\n",
    "print(f\"Set 1: {my_set_1}\")"
   ]
  },
  {
   "cell_type": "markdown",
   "metadata": {},
   "source": [
    "There are several set operations you may find useful:\n",
    "\n",
    "| Operation | Result |\n",
    "| --------- | ------ |\n",
    "| `A \\| B \\| ...` or `A.union(B, ...)` | Union returns a set of all of the objects in all sets |\n",
    "| `A & B & ...` or `A.intersection(B, ...)` | Intersection returns a set of the objects that are in all of the sets |\n",
    "| `A - B - ...` or `A.difference(B, ...)` | Difference returns a set of the objects in set A that are not in any other set |\n",
    "| `A ^ B` or `A.symmetric_difference(B)` | Symmetric difference returns a set of the elements that are either in set A or in set B but not in both |"
   ]
  },
  {
   "cell_type": "code",
   "execution_count": 16,
   "metadata": {},
   "outputs": [
    {
     "name": "stdout",
     "output_type": "stream",
     "text": [
      "Union: {'b', 'a', 'c'} | {'e', 'd', 'c'} = {'a', 'e', 'b', 'd', 'c'} \n",
      "Intersection: {'b', 'a', 'c'} & {'e', 'd', 'c'} = {'c'} \n",
      "Difference: {'b', 'a', 'c'} - {'e', 'd', 'c'} = {'b', 'a'} \n",
      "Symmetric Difference: {'b', 'a', 'c'} ^ {'e', 'd', 'c'} = {'a', 'e', 'b', 'd'} \n"
     ]
    }
   ],
   "source": [
    "# Lets make another set\n",
    "my_set_2 = {\"c\", \"d\", \"e\"}\n",
    "\n",
    "# Union\n",
    "print(f\"Union: {my_set_1} | {my_set_2} = {my_set_1 | my_set_2} \")\n",
    "\n",
    "# Intersection\n",
    "print(f\"Intersection: {my_set_1} & {my_set_2} = {my_set_1 & my_set_2} \")\n",
    "\n",
    "# Difference\n",
    "print(f\"Difference: {my_set_1} - {my_set_2} = {my_set_1 - my_set_2} \")\n",
    "\n",
    "# Symmetric Difference\n",
    "print(f\"Symmetric Difference: {my_set_1} ^ {my_set_2} = {my_set_1 ^ my_set_2} \")"
   ]
  },
  {
   "cell_type": "markdown",
   "metadata": {},
   "source": [
    "### Dictionaries ###\n",
    "Dictionaries contain values assigned to unique keys. You can retrieve or change values in a dictionary using their keys. You can also add new key:value pairs after the dictionary has been created."
   ]
  },
  {
   "cell_type": "code",
   "execution_count": 17,
   "metadata": {},
   "outputs": [
    {
     "name": "stdout",
     "output_type": "stream",
     "text": [
      "Dictionary: {'Name': 'Conor'}\n",
      "Name = Conor\n",
      "Dictionary: {'Name': 'Conor', 'Favorite Number': 14}\n",
      "Dictionary: {'Name': 'Conor', 'Favorite Number': 7}\n"
     ]
    }
   ],
   "source": [
    "# Dictionaries take the form: {key: value, key: value, ...}\n",
    "my_dict = {\"Name\": \"Conor\"}\n",
    "print(f\"Dictionary: {my_dict}\")\n",
    "\n",
    "# You can access certain values in a dictionary using the keys\n",
    "print(f\"Name = {my_dict['Name']}\")\n",
    "\n",
    "# You can add items to a dictionary\n",
    "my_dict[\"Favorite Number\"] = 14\n",
    "print(f\"Dictionary: {my_dict}\")\n",
    "\n",
    "# You can change values in a dictionary\n",
    "my_dict[\"Favorite Number\"] = 7\n",
    "print(f\"Dictionary: {my_dict}\")"
   ]
  },
  {
   "cell_type": "markdown",
   "metadata": {},
   "source": [
    "You can access all of a dictionaries keys, values, or key:value pairs using the `.keys()`, `.values()`, and `.items()` methods."
   ]
  },
  {
   "cell_type": "code",
   "execution_count": 18,
   "metadata": {
    "tags": []
   },
   "outputs": [
    {
     "name": "stdout",
     "output_type": "stream",
     "text": [
      "Dictionary Keys: dict_keys(['Name', 'Favorite Number'])\n",
      "Dictionary Values: dict_values(['Conor', 7])\n",
      "Dictionary Items: dict_items([('Name', 'Conor'), ('Favorite Number', 7)])\n"
     ]
    }
   ],
   "source": [
    "# You can access all of the keys in a dictionary\n",
    "print(f\"Dictionary Keys: {my_dict.keys()}\")\n",
    "\n",
    "# You can access all of the values in a dictionary\n",
    "print(f\"Dictionary Values: {my_dict.values()}\")\n",
    "\n",
    "# You can access all of the key:value pairs in a dictionary\n",
    "print(f\"Dictionary Items: {my_dict.items()}\")"
   ]
  },
  {
   "cell_type": "markdown",
   "metadata": {},
   "source": [
    "You can remove items from a dictionary using the `.pop()` method."
   ]
  },
  {
   "cell_type": "code",
   "execution_count": 19,
   "metadata": {},
   "outputs": [
    {
     "name": "stdout",
     "output_type": "stream",
     "text": [
      "Dictionary: {'Favorite Number': 7}\n"
     ]
    }
   ],
   "source": [
    "# You can remove items from a dictionary\n",
    "my_dict.pop(\"Name\")\n",
    "print(f\"Dictionary: {my_dict}\")"
   ]
  },
  {
   "cell_type": "markdown",
   "metadata": {},
   "source": [
    "\n",
    "### Booleans ###\n",
    "Booleans are either True or False"
   ]
  },
  {
   "cell_type": "code",
   "execution_count": 20,
   "metadata": {},
   "outputs": [
    {
     "name": "stdout",
     "output_type": "stream",
     "text": [
      "True Boolean: True\n",
      "False Boolean: False\n"
     ]
    }
   ],
   "source": [
    "my_bool_1 = True\n",
    "my_bool_2 = False\n",
    "\n",
    "print(\"True Boolean:\", my_bool_1)\n",
    "print(\"False Boolean:\", my_bool_2)"
   ]
  },
  {
   "cell_type": "markdown",
   "metadata": {},
   "source": [
    "#### Boolean operations ####\n",
    "There are several comparison operations that result in the production of booleans:\n",
    "\n",
    "| Operation | Meaning |\n",
    "| --------- | ------- |\n",
    "| `<` | less than |\n",
    "| `>` | greater than |\n",
    "| `==` | equal to |\n",
    "| `<=` | less than or equal to |\n",
    "| `>=` | greater than or equal to |\n",
    "| `!=` | not equal to |\n",
    "| `is` | object identity |\n",
    "| `is not` | negated object identity |"
   ]
  },
  {
   "cell_type": "code",
   "execution_count": 21,
   "metadata": {},
   "outputs": [
    {
     "name": "stdout",
     "output_type": "stream",
     "text": [
      "Is 3 > 5? False\n",
      "Is 3 < 5? True\n",
      "Is 3 = 5? False\n",
      "Is 3 != 5? True\n",
      "Is 3 >= 5? False\n",
      "Is 3 <= 5? True\n"
     ]
    }
   ],
   "source": [
    "# Greater than: >\n",
    "print(f\"Is 3 > 5? {3 > 5}\")\n",
    "\n",
    "# Less than: <\n",
    "print(f\"Is 3 < 5? {3 < 5}\")\n",
    "\n",
    "# Equal to: ==\n",
    "print(f\"Is 3 = 5? {3 == 5}\")\n",
    "\n",
    "# Not equal to: !=\n",
    "print(f\"Is 3 != 5? {3 != 5}\")\n",
    "\n",
    "# Greater than or equal to: >=\n",
    "print(f\"Is 3 >= 5? {3 >= 5}\")\n",
    "\n",
    "# Less than or equal to: <=\n",
    "print(f\"Is 3 <= 5? {3 <= 5}\")"
   ]
  },
  {
   "cell_type": "markdown",
   "metadata": {},
   "source": [
    "You can also combine these operators using parenthesis, \"and\", and/or \"or\". The operations are listed in order of priority:\n",
    "\n",
    "| Operation | Result | Notes |\n",
    "| --------- | ------ | ----- |\n",
    "| `x or y`  | if x is true, then x, else y | This is a short-circuit operator, so it only evaluates the second argument if the first one is false. |\n",
    "| `x and y` | if x is false, then x, else y | This is a short-circuit operator, so it only evaluates the second argument if the first one is true. |\n",
    "| `not x` | if x is false, then `True`, else `False` | not has a lower priority than non-Boolean operators, so not a == b is interpreted as not (a == b), and a == not b is a syntax error. |\n",
    "| parentheses | - | controls the order of operations |"
   ]
  },
  {
   "cell_type": "code",
   "execution_count": 22,
   "metadata": {},
   "outputs": [
    {
     "name": "stdout",
     "output_type": "stream",
     "text": [
      "Is 3 >= 5 and 3 <= 5? False\n",
      "Is 3 >= 5 or 3 <= 5? True\n",
      "Is (3 >= 5 or 3 <= 5) and 3 != 5? True\n",
      "Is 3 >= 5 or (3 <= 5 and 3 != 5)? True\n"
     ]
    }
   ],
   "source": [
    "# \"and\" requires both booleans to be true\n",
    "print(f\"Is 3 >= 5 and 3 <= 5? {3 >= 5 and 3 <= 5}\")\n",
    "\n",
    "# \"or\" requires either boolean to be true\n",
    "print(f\"Is 3 >= 5 or 3 <= 5? {3 >= 5 or 3 <= 5}\")\n",
    "\n",
    "# parenthesis can be used to control the order of operations\n",
    "print(f\"Is (3 >= 5 or 3 <= 5) and 3 != 5? {(3 >= 5 or 3 <= 5) and 3 != 5}\")\n",
    "print(f\"Is 3 >= 5 or (3 <= 5 and 3 != 5)? {3 >= 5 or (3 <= 5 and 3 != 5)}\")"
   ]
  },
  {
   "cell_type": "markdown",
   "metadata": {},
   "source": [
    "## Python statements and working with iterables ##\n",
    "\n",
    "We've already seen some iterables including lists, tuples, dictionaries, and strings"
   ]
  },
  {
   "cell_type": "markdown",
   "metadata": {},
   "source": [
    "### Getting the Length of an Iterable ###\n",
    "\n",
    "You can get the length of an interable using the `len()` function"
   ]
  },
  {
   "cell_type": "code",
   "execution_count": 23,
   "metadata": {},
   "outputs": [
    {
     "name": "stdout",
     "output_type": "stream",
     "text": [
      "List: [1, 2, 3, 4, 5, 6]\n",
      "Length of List: 6\n"
     ]
    }
   ],
   "source": [
    "print(f\"List: {my_list}\")\n",
    "\n",
    "# You can use the len() function to get an iterable's length\n",
    "print(f\"Length of List: {len(my_list)}\")"
   ]
  },
  {
   "cell_type": "markdown",
   "metadata": {},
   "source": [
    "### Slicing iterables ###\n",
    "\n",
    "Iterables can be sliced to access only certain parts of them. The syntax for slicing is `iterable[start:stop:step]`."
   ]
  },
  {
   "cell_type": "code",
   "execution_count": 24,
   "metadata": {},
   "outputs": [
    {
     "name": "stdout",
     "output_type": "stream",
     "text": [
      "Every other element starting at index 1 and ending before index 9: [2, 4]\n",
      "Every element starting at index 2: [3, 4, 5, 6]\n",
      "Every other element starting at index 2: [3, 5]\n",
      "Every element starting at index 2 and ending before the last two items: [3, 4]\n"
     ]
    }
   ],
   "source": [
    "# Slicing syntax is: iterable[start:stop:step]\n",
    "print(f\"Every other element starting at index 1 and ending before index 9: {my_list[1:-1:2]}\")\n",
    "\n",
    "# We don't have to specify all of these pieces\n",
    "print(f\"Every element starting at index 2: {my_list[2:]}\")\n",
    "print(f\"Every other element starting at index 2: {my_list[2::2]}\")\n",
    "print(f\"Every element starting at index 2 and ending before the last two items: {my_list[2:-2]}\")"
   ]
  },
  {
   "cell_type": "markdown",
   "metadata": {},
   "source": [
    "### For Loops ###\n",
    "\n",
    "For loops iterate through an iterable and perform a chunk of code that is indented within it. Once all items in the iterable have been passed through, the for loop ends."
   ]
  },
  {
   "cell_type": "markdown",
   "metadata": {},
   "source": [
    "Another useful object in python is the `range`, which is an immutable iterable that is typically used with for loops. By default, ranges start at 0 and have a step size of 1. They take the form `range(start, stop, step)`. "
   ]
  },
  {
   "cell_type": "code",
   "execution_count": 1,
   "metadata": {},
   "outputs": [
    {
     "name": "stdout",
     "output_type": "stream",
     "text": [
      "Result of looping through range(10):\n",
      "0\n",
      "1\n",
      "2\n",
      "3\n",
      "4\n",
      "5\n",
      "6\n",
      "7\n",
      "8\n",
      "9\n",
      "\n",
      "Result of looping through range(1, 10):\n",
      "1\n",
      "2\n",
      "3\n",
      "4\n",
      "5\n",
      "6\n",
      "7\n",
      "8\n",
      "9\n",
      "\n",
      "Result of looping through range(0, 10, 2):\n",
      "0\n",
      "2\n",
      "4\n",
      "6\n",
      "8\n"
     ]
    }
   ],
   "source": [
    "print(f\"Result of looping through range(10):\")\n",
    "for i in range(10):\n",
    "    print(i)\n",
    "    \n",
    "print(f\"\\nResult of looping through range(1, 10):\")\n",
    "for i in range(1, 10):\n",
    "    print(i)\n",
    "\n",
    "print(f\"\\nResult of looping through range(0, 10, 2):\")\n",
    "for i in range(0, 10, 2):\n",
    "    print(i)"
   ]
  },
  {
   "cell_type": "markdown",
   "metadata": {},
   "source": [
    "The enumerate function is a useful tool in for loops if you want to have access to the index and value of each element in an iterable. "
   ]
  },
  {
   "cell_type": "code",
   "execution_count": 26,
   "metadata": {},
   "outputs": [
    {
     "name": "stdout",
     "output_type": "stream",
     "text": [
      "A List: ['a', 'b', 'c', 'd', 'e']\n",
      "Element at index 0 is a.\n",
      "Element at index 1 is b.\n",
      "Element at index 2 is c.\n",
      "Element at index 3 is d.\n",
      "Element at index 4 is e.\n"
     ]
    }
   ],
   "source": [
    "# We can convert ranges into lists\n",
    "my_list = [\"a\", \"b\", \"c\", \"d\", \"e\"]\n",
    "print(f\"A List: {my_list}\")\n",
    "\n",
    "# We can access the iteration index at the same time as the elements themselves using enumerate\n",
    "for index, element in enumerate(my_list):\n",
    "    print(f\"Element at index {index} is {element}.\")"
   ]
  },
  {
   "cell_type": "markdown",
   "metadata": {},
   "source": [
    "Iterating through a dictionary requires the use of `.keys()`, `.values()`, or `.items()`:"
   ]
  },
  {
   "cell_type": "code",
   "execution_count": 27,
   "metadata": {},
   "outputs": [
    {
     "name": "stdout",
     "output_type": "stream",
     "text": [
      "Looping through the keys of {'key 1': 'value 1', 'key 2': 'value 2', 'key 3': 'value 3'}:\n",
      "key 1\n",
      "key 2\n",
      "key 3\n",
      "\n",
      "Looping through the values of {'key 1': 'value 1', 'key 2': 'value 2', 'key 3': 'value 3'}:\n",
      "value 1\n",
      "value 2\n",
      "value 3\n",
      "\n",
      "Looping through the items of {'key 1': 'value 1', 'key 2': 'value 2', 'key 3': 'value 3'}:\n",
      "key 1:value 1\n",
      "key 2:value 2\n",
      "key 3:value 3\n"
     ]
    }
   ],
   "source": [
    "my_dict = {\"key 1\": \"value 1\", \"key 2\" : \"value 2\", \"key 3\" : \"value 3\"}\n",
    "\n",
    "print(f\"Looping through the keys of {my_dict}:\")\n",
    "for k in my_dict.keys():\n",
    "    print(f\"{k}\")\n",
    "\n",
    "print(f\"\\nLooping through the values of {my_dict}:\")\n",
    "for v in my_dict.values():\n",
    "    print(f\"{v}\")\n",
    "\n",
    "print(f\"\\nLooping through the items of {my_dict}:\")\n",
    "for k, v in my_dict.items():\n",
    "    print(f\"{k}:{v}\")"
   ]
  },
  {
   "cell_type": "markdown",
   "metadata": {},
   "source": [
    "### While Loops ###\n",
    "while loops continue until some boolean is no longer true. You should be careful to make sure that the boolean will eventually become false, otherwise it will go on forever."
   ]
  },
  {
   "cell_type": "code",
   "execution_count": 28,
   "metadata": {},
   "outputs": [
    {
     "name": "stdout",
     "output_type": "stream",
     "text": [
      "0\n",
      "1\n",
      "2\n",
      "3\n",
      "4\n",
      "5\n"
     ]
    }
   ],
   "source": [
    "# A while loop\n",
    "my_variable = 0\n",
    "while my_variable <= 5:\n",
    "    print(my_variable)\n",
    "    my_variable += 1"
   ]
  },
  {
   "cell_type": "markdown",
   "metadata": {},
   "source": [
    "### if...elif...else ###\n",
    "\n",
    "if, elif, and else statements can be combined with booleans to produce different results"
   ]
  },
  {
   "cell_type": "code",
   "execution_count": 29,
   "metadata": {},
   "outputs": [
    {
     "name": "stdout",
     "output_type": "stream",
     "text": [
      "0 is less than 3\n",
      "1 is less than 3\n",
      "2 is less than 3\n",
      "3 is equal to 3\n",
      "4 is greater than 3\n",
      "5 is greater than 3\n",
      "6 is greater than 3\n",
      "7 is greater than 3\n",
      "8 is greater than 3\n",
      "9 is greater than 3\n"
     ]
    }
   ],
   "source": [
    "my_int = 3\n",
    "for i in range(10):\n",
    "    if i < my_int:\n",
    "        print(f\"{i} is less than {my_int}\")\n",
    "    elif i == my_int:\n",
    "        print(f\"{i} is equal to {my_int}\")\n",
    "    else:\n",
    "        print(f\"{i} is greater than {my_int}\")"
   ]
  },
  {
   "cell_type": "markdown",
   "metadata": {},
   "source": [
    "#### break, continue, and pass ####\n",
    "\n",
    "The break, continue, and pass statements can be used inside loops to control what happens at certain points.\n",
    "\n",
    "| Statement | Function |\n",
    "| --------- | -------- |\n",
    "| `break` | if reached, the loop will be ended |\n",
    "| `continue` | if reached, the loop will skip to the next iteration |\n",
    "| `pass` | if reached, the if...elif...else statement it is inside will be ignored, but the loop will be ininterupted. This is typically used as a placeholder while writing code. |"
   ]
  },
  {
   "cell_type": "code",
   "execution_count": 30,
   "metadata": {},
   "outputs": [
    {
     "name": "stdout",
     "output_type": "stream",
     "text": [
      "0\n",
      "1\n",
      "2\n",
      "4\n",
      "5\n",
      "6\n",
      "7\n"
     ]
    }
   ],
   "source": [
    "for i in range(10):\n",
    "    if i == 3:\n",
    "        continue\n",
    "    elif i == 8:\n",
    "        break\n",
    "    elif i == 4:\n",
    "        pass\n",
    "    \n",
    "    print(i)"
   ]
  },
  {
   "cell_type": "markdown",
   "metadata": {},
   "source": [
    "## Functions ##\n",
    "\n",
    "As you get better at writing code, it is good practice to write certain pieces of code in functions. This way you don't have rewrite pieces of code everytime you want to do the same thing. Long pieces of code that don't use functions are often called \"spaghetti-code\". Reading and understanding someone else's spagetti code can be very difficult, so it's good to break your code into functions to make it easier to follow what you are doing. On the flip side, code that is broken up into too many functions is called \"ravioli-code\" This can also be difficult to follow. With practice, you'll learn just how much functioning to do. \n"
   ]
  },
  {
   "cell_type": "code",
   "execution_count": 31,
   "metadata": {},
   "outputs": [],
   "source": [
    "def my_function(argument1, argument2, keyword_argument=1):\n",
    "    '''\n",
    "    This is a docstring. This is where you place information about what your function does and how it can be used. This function is going to add argument 1 to argument 2 and then divide by keyword_argument (which has a default value of 1).\n",
    "\n",
    "    Parameters\n",
    "    ----------\n",
    "    argument1 : int or float\n",
    "        This is an integer or a float that will be added to argument 2 and then divided by keyword_argument\n",
    "    argument2 : int or float\n",
    "        This is an integer or a float that will be added to argument 1 and then divided by keyword_argument\n",
    "    keyword_argument : int or float\n",
    "        This is an integer or a float that will be used to divide the sum of arguments 1 and 2. Must not be equal to 0. Default value is 1.\n",
    "    \n",
    "    Returns\n",
    "    -------\n",
    "    value : float\n",
    "        This is the value that will be returned when argument 1 is added to argument 2 and then that is divided by keyword argument\n",
    "    \n",
    "    Raises\n",
    "    ------\n",
    "    ValueError\n",
    "        Raised when value of keyword_argument is 0\n",
    "    '''\n",
    "    if keyword_argument == 0:\n",
    "        raise ValueError(\"User provided 0 to keyword_argument. Cannot divide by 0.\")\n",
    "    else:\n",
    "        value = (argument1+argument2)/keyword_argument\n",
    "        return value"
   ]
  },
  {
   "cell_type": "markdown",
   "metadata": {},
   "source": [
    "You can access a function's docstring using the `help()` function."
   ]
  },
  {
   "cell_type": "code",
   "execution_count": 32,
   "metadata": {},
   "outputs": [
    {
     "name": "stdout",
     "output_type": "stream",
     "text": [
      "This is my_functions docstring:\n",
      "Help on function my_function in module __main__:\n",
      "\n",
      "my_function(argument1, argument2, keyword_argument=1)\n",
      "    This is a docstring. This is where you place information about what your function does and how it can be used. This function is going to add argument 1 to argument 2 and then divide by keyword_argument (which has a default value of 1).\n",
      "    \n",
      "    Parameters\n",
      "    ----------\n",
      "    argument1 : int or float\n",
      "        This is an integer or a float that will be added to argument 2 and then divided by keyword_argument\n",
      "    argument2 : int or float\n",
      "        This is an integer or a float that will be added to argument 1 and then divided by keyword_argument\n",
      "    keyword_argument : int or float\n",
      "        This is an integer or a float that will be used to divide the sum of arguments 1 and 2. Must not be equal to 0. Default value is 1.\n",
      "    \n",
      "    Returns\n",
      "    -------\n",
      "    value : float\n",
      "        This is the value that will be returned when argument 1 is added to argument 2 and then that is divided by keyword argument\n",
      "    \n",
      "    Raises\n",
      "    ------\n",
      "    ValueError\n",
      "        Raised when value of keyword_argument is 0\n",
      "\n"
     ]
    }
   ],
   "source": [
    "print(f\"This is my_functions docstring:\")\n",
    "help(my_function)"
   ]
  },
  {
   "cell_type": "markdown",
   "metadata": {},
   "source": [
    "Functions are a convenient way to create reusable chunks of code."
   ]
  },
  {
   "cell_type": "code",
   "execution_count": 33,
   "metadata": {},
   "outputs": [
    {
     "name": "stdout",
     "output_type": "stream",
     "text": [
      "Result of my_function(3, 3, 2):\n",
      "3.0\n",
      "Result of my_function(3, 3):\n",
      "6.0\n",
      "Result of my_function(3, 3, 0):\n"
     ]
    },
    {
     "ename": "ValueError",
     "evalue": "User provided 0 to keyword_argument. Cannot divide by 0.",
     "output_type": "error",
     "traceback": [
      "\u001b[0;31m---------------------------------------------------------------------------\u001b[0m",
      "\u001b[0;31mValueError\u001b[0m                                Traceback (most recent call last)",
      "Cell \u001b[0;32mIn[33], line 10\u001b[0m\n\u001b[1;32m      7\u001b[0m \u001b[38;5;28mprint\u001b[39m(value)\n\u001b[1;32m      9\u001b[0m \u001b[38;5;28mprint\u001b[39m(\u001b[38;5;124mf\u001b[39m\u001b[38;5;124m\"\u001b[39m\u001b[38;5;124mResult of my_function(3, 3, 0):\u001b[39m\u001b[38;5;124m\"\u001b[39m)\n\u001b[0;32m---> 10\u001b[0m value \u001b[38;5;241m=\u001b[39m my_function(\u001b[38;5;241m3\u001b[39m, \u001b[38;5;241m3\u001b[39m, \u001b[38;5;241m0\u001b[39m)\n\u001b[1;32m     11\u001b[0m \u001b[38;5;28mprint\u001b[39m(value)\n",
      "Cell \u001b[0;32mIn[31], line 25\u001b[0m, in \u001b[0;36mmy_function\u001b[0;34m(argument1, argument2, keyword_argument)\u001b[0m\n\u001b[1;32m      2\u001b[0m \u001b[38;5;250m\u001b[39m\u001b[38;5;124;03m'''\u001b[39;00m\n\u001b[1;32m      3\u001b[0m \u001b[38;5;124;03mThis is a docstring. This is where you place information about what your function does and how it can be used. This function is going to add argument 1 to argument 2 and then divide by keyword_argument (which has a default value of 1).\u001b[39;00m\n\u001b[1;32m      4\u001b[0m \n\u001b[0;32m   (...)\u001b[0m\n\u001b[1;32m     22\u001b[0m \u001b[38;5;124;03m    Raised when value of keyword_argument is 0\u001b[39;00m\n\u001b[1;32m     23\u001b[0m \u001b[38;5;124;03m'''\u001b[39;00m\n\u001b[1;32m     24\u001b[0m \u001b[38;5;28;01mif\u001b[39;00m keyword_argument \u001b[38;5;241m==\u001b[39m \u001b[38;5;241m0\u001b[39m:\n\u001b[0;32m---> 25\u001b[0m     \u001b[38;5;28;01mraise\u001b[39;00m \u001b[38;5;167;01mValueError\u001b[39;00m(\u001b[38;5;124m\"\u001b[39m\u001b[38;5;124mUser provided 0 to keyword_argument. Cannot divide by 0.\u001b[39m\u001b[38;5;124m\"\u001b[39m)\n\u001b[1;32m     26\u001b[0m \u001b[38;5;28;01melse\u001b[39;00m:\n\u001b[1;32m     27\u001b[0m     value \u001b[38;5;241m=\u001b[39m (argument1\u001b[38;5;241m+\u001b[39margument2)\u001b[38;5;241m/\u001b[39mkeyword_argument\n",
      "\u001b[0;31mValueError\u001b[0m: User provided 0 to keyword_argument. Cannot divide by 0."
     ]
    }
   ],
   "source": [
    "print(f\"Result of my_function(3, 3, 2):\")\n",
    "value = my_function(3, 3, 2)\n",
    "print(value)\n",
    "\n",
    "print(f\"Result of my_function(3, 3):\")\n",
    "value = my_function(3, 3)\n",
    "print(value)\n",
    "\n",
    "print(f\"Result of my_function(3, 3, 0):\")\n",
    "value = my_function(3, 3, 0)\n",
    "print(value)"
   ]
  },
  {
   "cell_type": "markdown",
   "metadata": {},
   "source": [
    "## Reading and Writing ##\n",
    "\n",
    "At times, you might find it useful to read and write information from files, or have the user of your program input the value of a variable. \n",
    "\n",
    "### input function ###\n",
    "\n",
    "The input function will request the user to input the value of a variable."
   ]
  },
  {
   "cell_type": "code",
   "execution_count": 34,
   "metadata": {},
   "outputs": [
    {
     "name": "stdin",
     "output_type": "stream",
     "text": [
      "What is your name? Conor\n"
     ]
    },
    {
     "name": "stdout",
     "output_type": "stream",
     "text": [
      "The user's name is Conor.\n"
     ]
    }
   ],
   "source": [
    "# First, we request the input from the user\n",
    "my_var = input(\"What is your name?\")\n",
    "\n",
    "# Second, we use the variable. This will only be run once the user inputs the requested variable.\n",
    "print(f\"The user's name is {my_var}.\")"
   ]
  },
  {
   "cell_type": "markdown",
   "metadata": {},
   "source": [
    "### Reading and Writing files ###\n",
    "\n",
    "You can read and write to a file using the `open(filename, mode)` function. The mode argument is where you specify whether you want to read, write, append, etc. \n",
    "\n",
    "| mode | Function |\n",
    "| ---- | -------- |\n",
    "| `\"r\"` (default) | Read the file. Throws error if the file does not exist. |\n",
    "| `\"w\"` | Write to the file, overwriting if it exists. Creates the file if it does not exist. |\n",
    "| `\"a\"` | Append to the file. Creates the file if it does not exist. |\n",
    "| `\"x\"` | Create the file. Throws error if it already exists. |"
   ]
  },
  {
   "cell_type": "markdown",
   "metadata": {},
   "source": [
    "#### Writing to a file ####\n",
    "You can assign the result of the `open()` function to a variable (in which case you must remember to close it with the `.close()` method. Once it has been opened for writing or appending you can write to it using the `.write()` method. Please note that, unlike the `print()` function, the `.write()` method will not automatically add a newline at the end of what you're writing. "
   ]
  },
  {
   "cell_type": "code",
   "execution_count": 35,
   "metadata": {},
   "outputs": [],
   "source": [
    "# open the file you wish to write to a variable\n",
    "my_file = open(\"my_file.txt\", \"w\")\n",
    "\n",
    "# write to the file\n",
    "my_file.write(\"This is the first line of the file.\")\n",
    "\n",
    "# close the file (THIS IS VERY IMPORTANT!)\n",
    "my_file.close()"
   ]
  },
  {
   "cell_type": "markdown",
   "metadata": {},
   "source": [
    "You can also place the `open()` function within a `with` statement."
   ]
  },
  {
   "cell_type": "code",
   "execution_count": 36,
   "metadata": {},
   "outputs": [],
   "source": [
    "# You can also append to a file to add to the file. Here, we will use a with statement, so that\n",
    "# the file will be automatically closed. \n",
    "with open(\"my_file.txt\", \"a\") as my_file:\n",
    "    # We put a \\n at the beginning of the line to start a new line.\n",
    "    my_file.write(\"\\nThis is the second line of the file.\")"
   ]
  },
  {
   "cell_type": "markdown",
   "metadata": {},
   "source": [
    "#### Reading a file ####\n",
    "You can read a file all at once using the `.read()` method."
   ]
  },
  {
   "cell_type": "code",
   "execution_count": 37,
   "metadata": {},
   "outputs": [
    {
     "name": "stdout",
     "output_type": "stream",
     "text": [
      "Reading the file all at once:\n",
      "This is the first line of the file.\n",
      "This is the second line of the file.\n"
     ]
    }
   ],
   "source": [
    "# We can also read a file with the open function\n",
    "with open(\"my_file.txt\", \"r\") as my_file:\n",
    "    # We can print the whole file with the .read() method\n",
    "    print(\"Reading the file all at once:\")\n",
    "    print(my_file.read()) "
   ]
  },
  {
   "cell_type": "markdown",
   "metadata": {},
   "source": [
    "You can also read the file line by line using the `.readlines()` method."
   ]
  },
  {
   "cell_type": "code",
   "execution_count": 38,
   "metadata": {},
   "outputs": [
    {
     "name": "stdout",
     "output_type": "stream",
     "text": [
      "\n",
      "Reading the file line by line:\n",
      "0: This is the first line of the file.\n",
      "\n",
      "1: This is the second line of the file.\n"
     ]
    }
   ],
   "source": [
    "with open(\"my_file.txt\", \"r\") as my_file:\n",
    "    # or we can read the file line by line with .readlines() method\n",
    "    print(\"\\nReading the file line by line:\")\n",
    "    for line_number, line in enumerate(my_file.readlines()):\n",
    "        print(f\"{line_number}: {line}\")"
   ]
  },
  {
   "cell_type": "markdown",
   "metadata": {},
   "source": [
    "## Some code examples ##\n",
    "\n",
    "### Fibonacci Sequence ###"
   ]
  },
  {
   "cell_type": "code",
   "execution_count": 39,
   "metadata": {},
   "outputs": [
    {
     "name": "stdout",
     "output_type": "stream",
     "text": [
      "[0, 1, 1, 2, 3, 5, 8, 13, 21, 34, 55, 89, 144, 233, 377, 610, 987, 1597, 2584, 4181, 6765, 10946, 17711, 28657, 46368, 75025, 121393, 196418, 317811, 514229, 832040, 1346269, 2178309, 3524578, 5702887, 9227465, 14930352, 24157817, 39088169, 63245986, 102334155, 165580141, 267914296, 433494437, 701408733, 1134903170, 1836311903, 2971215073, 4807526976, 7778742049, 12586269025, 20365011074, 32951280099, 53316291173, 86267571272, 139583862445, 225851433717, 365435296162, 591286729879, 956722026041, 1548008755920, 2504730781961, 4052739537881, 6557470319842, 10610209857723, 17167680177565, 27777890035288, 44945570212853, 72723460248141, 117669030460994, 190392490709135, 308061521170129, 498454011879264, 806515533049393, 1304969544928657, 2111485077978050, 3416454622906707, 5527939700884757, 8944394323791464, 14472334024676221, 23416728348467685, 37889062373143906, 61305790721611591, 99194853094755497, 160500643816367088, 259695496911122585, 420196140727489673, 679891637638612258, 1100087778366101931, 1779979416004714189, 2880067194370816120, 4660046610375530309, 7540113804746346429, 12200160415121876738, 19740274219868223167, 31940434634990099905, 51680708854858323072, 83621143489848422977, 135301852344706746049, 218922995834555169026]\n"
     ]
    }
   ],
   "source": [
    "def fibonacci(n):\n",
    "    ''' \n",
    "    prints the fibonacci sequence\n",
    "\n",
    "    Parameters\n",
    "    ----------\n",
    "    n : int\n",
    "        The number of numbers in the fibonacci sequence to produce\n",
    "    \n",
    "    Returns\n",
    "    -------\n",
    "    fibonacci : list\n",
    "        If return_list is true, a list of the computed elements of the fibonacci sequence\n",
    "    '''\n",
    "    fibonacci = [0, 1]\n",
    "    \n",
    "    for i in range(n-2):\n",
    "        fibonacci.append(fibonacci[-2]+fibonacci[-1])\n",
    "        \n",
    "    return fibonacci\n",
    "    \n",
    "fib = fibonacci(100)\n",
    "\n",
    "print(fib)"
   ]
  },
  {
   "cell_type": "markdown",
   "metadata": {},
   "source": [
    "### MatPlotLib Example ###\n",
    "\n",
    "This is a simple example of a matplotlib plot. Please note that there are many other examples available on the [MatPlotLib website](https://matplotlib.org/stable/gallery/index)."
   ]
  },
  {
   "cell_type": "code",
   "execution_count": 40,
   "metadata": {
    "tags": []
   },
   "outputs": [
    {
     "data": {
      "image/png": "[encoded data removed]",
      "text/plain": [
       "<Figure size 640x480 with 1 Axes>"
      ]
     },
     "metadata": {},
     "output_type": "display_data"
    }
   ],
   "source": [
    "import matplotlib.pyplot as plt\n",
    "\n",
    "fig, ax = plt.subplots()\n",
    "\n",
    "ax.plot(range(100), # These are the xvalues\n",
    "        fib, # These are the yvalues\n",
    "        marker='.', # This is the marker style (optional)\n",
    "        c='k') # This is the color (optional)\n",
    "ax.set_xlabel(\"n\") # This is how you label the y axis\n",
    "ax.set_ylabel(\"fibonacci(n)\") # This is how you label the y axis\n",
    "ax.set_xlim(0, 100) # This is how you set the x bounds, there is also set_ylim.\n",
    "\n",
    "plt.show() # This is how you show the plot in the jupyter notebook"
   ]
  }
 ],
 "metadata": {
  "kernelspec": {
   "display_name": "Python 3 (ipykernel)",
   "language": "python",
   "name": "python3"
  },
  "language_info": {
   "codemirror_mode": {
    "name": "ipython",
    "version": 3
   },
   "file_extension": ".py",
   "mimetype": "text/x-python",
   "name": "python",
   "nbconvert_exporter": "python",
   "pygments_lexer": "ipython3",
   "version": "3.11.5"
  },
  "toc-autonumbering": true
 },
 "nbformat": 4,
 "nbformat_minor": 4
}
