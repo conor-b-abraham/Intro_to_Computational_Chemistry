{
 "cells": [
  {
   "cell_type": "markdown",
   "metadata": {},
   "source": [
    "# Assignment 1: Learning Python #\n",
    "**Due Date: Monday, January 22nd, 2024 at 11:59PM**\n",
    "\n",
    "**To submit your homework:**\n",
    "1. Name this file hw1.ipynb. Dropbox will automatically add your name to the file name. Please make sure you are not logged into someone else's dropbox account when submitting the homework. \n",
    "2. Submit your homework [here](https://www.dropbox.com/request/6IozkuYeb6msLRPvGI2S).\n",
    "3. If you submitted your homework but want to update the submission, submit a second file where the name is changed by adding \"-final\" to the end of the file name. For example, \"hw1-final.ipynb\" would be the update.\n",
    "\n",
    "## Background ##\n",
    "\n",
    "In this homework assignment, you will write functions to calculate factorials and to approximate them using Stirling's Approximation. As an example of a well-crafted function, a function that computes the fibonacci sequence is provided in the cell below. You should include a docstring for each of your functions that explains what they do, how to use them, and what they return. You should also thoroughly comment your code so that it can be easily understood by others. Raising exceptions is optional, but a nice touch."
   ]
  },
  {
   "cell_type": "code",
   "execution_count": 3,
   "metadata": {},
   "outputs": [
    {
     "data": {
      "text/plain": [
       "[0, 1, 1, 2]"
      ]
     },
     "execution_count": 3,
     "metadata": {},
     "output_type": "execute_result"
    }
   ],
   "source": [
    "def fibonacci(n):\n",
    "    ''' \n",
    "    Calculates the first n elements of the fibonacci sequence\n",
    "\n",
    "    Parameters\n",
    "    ----------\n",
    "    n : int\n",
    "        The number of elements in the fibonacci sequence to calculate. Must be greater than 0.\n",
    "    \n",
    "    Returns\n",
    "    -------\n",
    "    fibonacci : list(dtype=int, length=n)\n",
    "        A list of the computed elements of the fibonacci sequence\n",
    "    '''\n",
    "    if type(n) is not int:\n",
    "        raise TypeError(f\"Parameter: n: Expected int, got {type(n)}\")\n",
    "    if n <= 0:\n",
    "        raise ValueError(f\"Parameter: n: Expected int greater than 0, got {n}\")\n",
    "\n",
    "    fibonacci = [0, 1] # Start with the first two values\n",
    "\n",
    "    if n <= 2: # If you only want 1 or 2 values, truncate and return the predefined list\n",
    "        return fibonacci[:n]\n",
    "\n",
    "    for _ in range(n-2): # Otherwise calculate more elements of the fibonacci sequence\n",
    "        fibonacci.append(fibonacci[-2]+fibonacci[-1])\n",
    "        \n",
    "    return fibonacci\n",
    "\n",
    "fibonacci(4)"
   ]
  },
  {
   "cell_type": "markdown",
   "metadata": {},
   "source": [
    "## Problem 1: Calculating a factorial ##\n",
    "\n",
    "### Task 1.1: Write a function that returns the factorial of a real, non-negative integer parameter. ###\n",
    "\n",
    "This function should be written using no packages.\n",
    "\n",
    "*Hint: What is $0!$ equal to?*\n",
    "\n",
    "**Write your solution in the cell below**"
   ]
  },
  {
   "cell_type": "code",
   "execution_count": null,
   "metadata": {
    "tags": []
   },
   "outputs": [],
   "source": []
  },
  {
   "cell_type": "markdown",
   "metadata": {},
   "source": [
    "### Task 1.2: Write a function that approximates the factorial of a real, non-negative integer parameter using Stirling's Approximation: $n! \\sim  \\sqrt{2\\pi n}\\left ( \\frac{n}{e} \\right )^n$. ###\n",
    "\n",
    "You are allowed to use, `import math`, `math.pi`, `math.sqrt`, and `math.e` within your code, but mustn't use any other packages.\n",
    "\n",
    "**Write your solution in the cell below**"
   ]
  },
  {
   "cell_type": "code",
   "execution_count": null,
   "metadata": {
    "tags": []
   },
   "outputs": [],
   "source": []
  },
  {
   "cell_type": "markdown",
   "metadata": {},
   "source": [
    "### Task 1.3: Print and plot your results ###\n",
    "\n",
    "Using the function provided in the cell below, create a figure that includes:\n",
    "1. A semi-log plot of $n!$ versus $n$, for $n$ from 1 to 52, with $n!$ on a log scale. \n",
    "2. A semi-log plot of Stirling's approximation of $n!$, for $n$ from 1 to 52, versus $n$ with Stirling's approximation of $n!$ on a log scale.\n",
    "3. A plot that shows the fractional error of Stirling's Approximation for $n$ from 1 to 52.\n",
    "\n",
    "Also, print the actual factorial values, the approximated factorial values, and the fractional error of Stirling's approximation for $n$ from 1 to 52."
   ]
  },
  {
   "cell_type": "code",
   "execution_count": null,
   "metadata": {
    "tags": []
   },
   "outputs": [],
   "source": [
    "import matplotlib.pyplot as plt\n",
    "\n",
    "def factorial_plot(n_values, factorial_values, stirlings_values, error_values):\n",
    "    '''\n",
    "    Creates a figure containing three plots:\n",
    "        1. A plot of $n!$ versus $n$, for $n$ from 1 to 52, with $n!$ on a log scale. \n",
    "        2. A plot of Stirling's approximation of $n!$, for $n$ from 1 to 52, versus $n$ with Stirling's approximation of $n!$ on a log scale.\n",
    "        3. A plot that shows the fractional error of Stirling's Approximation for $n$ from 1 to 52 with $n$ on a log scale.\n",
    "\n",
    "    Parameters\n",
    "    ----------\n",
    "    n_values : list(dtype=int or float, length=N)\n",
    "        The values of n corresponding to the values in factorial_values, simpsons_values, and error_values.\n",
    "    factorial_values : list(dtype=int or float, length=N)\n",
    "        The actual values of the factorials for each value of n in n_values. Must be same length as n_values.\n",
    "    stirlings_values : list(dtype=float, length=N)\n",
    "        The values of the factorials as approximated by Stirling's approximation for each value of n in n_values. Must be same length as n_values.\n",
    "    error_values : list(dtype=float, length=N)\n",
    "        The fractional error of Stirling's approximation for each value in n_values.\n",
    "\n",
    "    Usage\n",
    "    -----\n",
    "    To use you must calculate the values in each list and pass them to their corresponding argument. For example, if you have a function called \"factorial()\" for calculating the actual value of the factorials, and \"stirling()\" for approximating them using Stirling's rule. The following code should do the trick:\n",
    "\n",
    "    n_values = list(range(1, 53))\n",
    "    factorial_values, stirlings_values, error_values = [], [], []\n",
    "    for n in n_values:\n",
    "        factorial_values.append(factorial(n))\n",
    "        stirlings_values.append(stirling(n))\n",
    "        error_values.append((factorial_values[-1]-stirlings_values[-1])/factorial_values[-1])\n",
    "    factorial_plot(n_values, factorial_values, stirlings_values, error_values)\n",
    "    '''\n",
    "\n",
    "    fig, ax = plt.subplots(nrows=4, figsize=(3.5, 6.5), gridspec_kw={\"height_ratios\": [3, 3, 3, 1]})\n",
    "\n",
    "    # A) Factorial Plot\n",
    "    ax[0].plot(n_values, factorial_values, c=\"tab:orange\", marker=\".\")\n",
    "    ax[0].set_yscale(\"log\")\n",
    "    ax[0].set_xlabel(r\"$n$\", fontsize=8)\n",
    "    ax[0].set_ylabel(r\"$n!$\", fontsize=8)\n",
    "    ax[0].tick_params(labelsize=8)\n",
    "    ax[0].annotate(\"(A)\", (-0.25, 1.02), xycoords=\"axes fraction\", ha=\"left\", va=\"top\", fontsize=10, fontweight=\"extra bold\")\n",
    "    \n",
    "    # B) Stirling's Plot\n",
    "    ax[1].plot(n_values, stirlings_values, c=\"tab:cyan\", marker=\".\")\n",
    "    ax[1].set_yscale(\"log\")\n",
    "    ax[1].set_xlabel(r\"$n$\", fontsize=8)\n",
    "    ax[1].set_ylabel(r\"$\\sqrt{2 \\pi n}(n/e))^n$\", fontsize=8)\n",
    "    ax[1].tick_params(labelsize=8)\n",
    "    ax[1].annotate(\"(B)\", (-0.25, 1.02), xycoords=\"axes fraction\", ha=\"left\", va=\"top\", fontsize=10, fontweight=\"extra bold\")\n",
    "\n",
    "    #C) Error Plot\n",
    "    ax[2].plot(n_values, error_values, c=\"k\", marker=\".\")\n",
    "    ax[2].set_xscale(\"log\")\n",
    "    ax[2].set_xlabel(r\"$n$\", fontsize=8)\n",
    "    ax[2].set_ylabel(r\"$\\frac{n! - \\sqrt{2 \\pi n}(n/e))^n}{n!}$\", fontsize=8)\n",
    "    ax[2].set_ylim(bottom=0)\n",
    "    ax[2].tick_params(labelsize=8)\n",
    "    ax[2].annotate(\"(C)\", (-0.25, 1.02), xycoords=\"axes fraction\", ha=\"left\", va=\"top\", fontsize=10, fontweight=\"extra bold\")\n",
    "\n",
    "    # Caption\n",
    "    ax[3].annotate(\"Evaluation of Stirling's Approximation. (A) The actual factorial\\nvalue for n from 1 to 52. (B) The approximated factorial value\\nby Stirling's approximation for n from 1 to 52. The factorial\\nvalues for (A) and (B) are shown on a log-scale. (C) The\\nfractional error of Stirling's approximation for n from 1 to 52\\nwith the values of n shown on a log-scale.\", (0.35, 0.95), xycoords=\"axes fraction\", ha=\"center\", va=\"top\", fontsize=7)\n",
    "    ax[3].axis(\"off\")\n",
    "\n",
    "    plt.tight_layout()\n",
    "    plt.show()"
   ]
  },
  {
   "cell_type": "markdown",
   "metadata": {},
   "source": [
    "**Write your solution in the cell below**"
   ]
  },
  {
   "cell_type": "code",
   "execution_count": null,
   "metadata": {
    "tags": []
   },
   "outputs": [],
   "source": []
  },
  {
   "cell_type": "markdown",
   "metadata": {},
   "source": [
    "### Task 1.4: What do you notice about Stirling's Approximation as $n$ grows large? Is there anything interesting that you notice about factorials in general? ###\n",
    "\n",
    "**Write your answer in the markdown cell below.**"
   ]
  },
  {
   "cell_type": "markdown",
   "metadata": {},
   "source": []
  }
 ],
 "metadata": {
  "kernelspec": {
   "display_name": "Python 3 (ipykernel)",
   "language": "python",
   "name": "python3"
  },
  "language_info": {
   "codemirror_mode": {
    "name": "ipython",
    "version": 3
   },
   "file_extension": ".py",
   "mimetype": "text/x-python",
   "name": "python",
   "nbconvert_exporter": "python",
   "pygments_lexer": "ipython3",
   "version": "3.11.5"
  }
 },
 "nbformat": 4,
 "nbformat_minor": 4
}
