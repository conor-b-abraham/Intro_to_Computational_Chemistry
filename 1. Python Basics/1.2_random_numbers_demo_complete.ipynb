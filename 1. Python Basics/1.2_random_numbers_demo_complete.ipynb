{
 "cells": [
  {
   "cell_type": "markdown",
   "metadata": {},
   "source": [
    "# Using Random Numbers in Python #\n",
    "\n",
    "## Introduction ##\n",
    "\n",
    "In computational molecular science, and for many other computational tasks, you'll often have need for random numbers. It is important to understand that computers are unable to actually generate \"random\" numbers, so instead you'll have to rely on a pseudo-random number generator (PRNG). While these might not be truly random, decades of research have gone into developing them, and, as you'll see in this assignment, the best of them are statistically as good as random. With that being said, you should never blindly use a PRNG, as some are better than others. When using a program with a PRNG for the first time, there are two critical questions you should ask:\n",
    "\n",
    "1. What algorithm is being used?\n",
    "2. What is the program's seeding strategy?\n",
    "\n",
    "## The Middle Square Method ##\n",
    "\n",
    "The middle square method generates a sequence of $n$-digit pseudo-random numbers in the following way:\n",
    "\n",
    "1) Starts with a seed value that has $n$-digits.\n",
    "2) Squares the number\n",
    "3) If the number has less than $2n$ digits, leading 0s are added to compensate.\n",
    "4) The middle $n$ digits is taken as a random number\n",
    "5) The random number is used to seed the next random number (return to 1)"
   ]
  },
  {
   "cell_type": "code",
   "execution_count": 3,
   "metadata": {},
   "outputs": [],
   "source": [
    "import numpy as np\n",
    "import matplotlib.pyplot as plt\n",
    "\n",
    "def middle_square(n, seed):\n",
    "    '''\n",
    "    Generates a sequence of n random numbers in range [0, 1) using the middle squared method\n",
    "\n",
    "    Parameters\n",
    "    ----------\n",
    "    n : int\n",
    "        The number of random numbers to generate\n",
    "    seed : int\n",
    "        The seed number to use for the random number. Must be have 6 digits.\n",
    "\n",
    "    Returns\n",
    "    -------\n",
    "    random_sequence : list(dtype=int, length=n)\n",
    "        The random sequence of numbers\n",
    "    \n",
    "    Raises\n",
    "    ------\n",
    "    TypeError : \"Parameter: _: Expected int, got _\"\n",
    "        Raised if seed or n is not an int\n",
    "    ValueError : \"Parameter: seed: Expected value with 6-digits, got _\"\n",
    "        Raised if seed value does not have 6 digits.\n",
    "    '''\n",
    "    if type(n) is not int:\n",
    "        raise TypeError(f\"Parameter: n: Expected int, got {type(n)}\")\n",
    "    if type(seed) is not int:\n",
    "        raise TypeError(f\"Parameter: seed: Expected int, got {type(seed)}\")\n",
    "    if len(str(seed)) != 6:\n",
    "        raise TypeError(f\"Parameter: seed: Expected value with 6-digits, got _\")\n",
    "    \n",
    "    random_sequence = np.zeros(n)\n",
    "    for i in range(n):\n",
    "        s = str(seed * seed)                    # Square seed and turn into a string\n",
    "        while len(s) != 12:\n",
    "            s = \"0\" + s                         # Add leading 0s to make it 12 digits long\n",
    "        seed = int(s[3:-3])                     # Get random number/ next seed\n",
    "        random_sequence[i] = seed/1000000       # Add to list of random numbers\n",
    "\n",
    "    return random_sequence\n",
    "\n",
    "random_numbers = middle_square(10**8, 484268)"
   ]
  },
  {
   "cell_type": "code",
   "execution_count": 8,
   "metadata": {},
   "outputs": [
    {
     "name": "stdout",
     "output_type": "stream",
     "text": [
      "   100000000:     0.476     0.301\n",
      "   100000000:     0.495     0.294\n",
      "   100000000:     0.508     0.294\n",
      "   100000000:     0.510     0.294\n",
      "   100000000:     0.510     0.294\n",
      "   100000000:     0.510     0.294\n",
      "   100000000:     0.510     0.294\n"
     ]
    },
    {
     "data": {
      "image/png": "[encoded data removed]",
      "text/plain": [
       "<Figure size 1200x300 with 7 Axes>"
      ]
     },
     "metadata": {},
     "output_type": "display_data"
    }
   ],
   "source": [
    "fig, ax = plt.subplots(ncols=7, sharex=True, sharey=True, figsize=(12, 3))\n",
    "\n",
    "for i, o in enumerate(range(2, 9)):\n",
    "    ax[i].hist(random_numbers[:10**o], bins=10, range=(0,1), density=True)\n",
    "    ax[i].set_title(f\"N=10^{o}\")\n",
    "    print(f\"{10**8:>12}:{np.mean(random_numbers[:10**o]):>10.3f}{np.std(random_numbers[:10**o]):>10.3f}\")\n",
    "\n",
    "ax[0].set_xlim(0, 1)\n",
    "plt.show()"
   ]
  },
  {
   "cell_type": "markdown",
   "metadata": {},
   "source": [
    "## Python Libraries for Generating Random Numbers ##\n",
    "\n",
    "There are PRNGs available in Python through the following libraries:\n",
    "\n",
    "1. Python's `random` library\n",
    "\n",
    "    In Python, the default PRNG is the Mersenne Twister. This is a good general-purpose PRNG for statistical tasks; however, it is not without its shortcomings. I encourage you to read more about the Mersenne Twister before applying it in your programs, especially if you're using it for something beyond just generating initial conditions (e.g. for Monte Carlo). By default, this generator is seeded using your computer's system time. Of course, you can also set your own seed so that your results will be reproducible. The documentation is available [here](https://docs.python.org/3/library/random.html)."
   ]
  },
  {
   "cell_type": "code",
   "execution_count": 9,
   "metadata": {},
   "outputs": [
    {
     "name": "stdout",
     "output_type": "stream",
     "text": [
      "A random number: 0.8454621433109796\n",
      "A random number seeded with 1: 0.13436424411240122\n",
      "A list of 3 random numbers:[0.9730271335439616, 0.5733676720916158, 0.0359851416643614]\n",
      "The same random number as before (seeded with 1): 0.13436424411240122\n"
     ]
    }
   ],
   "source": [
    "# RANDOM LIBRARY EXAMPLES\n",
    "from random import random\n",
    "\n",
    "# You can easily generate a single random number using your system time as your seed\n",
    "print(f\"A random number: {random()}\")\n",
    "\n",
    "# You can also import the seed function if you want to set the seed so that your results are reproducible\n",
    "from random import seed\n",
    "seed(1) # Set the seed. Here, I'm using 1. Don't actually use 1.\n",
    "print(f\"A random number seeded with 1: {random()}\")\n",
    "\n",
    "# You could generate a list of random numbers\n",
    "seed() # Not setting the seed\n",
    "print(f\"A list of 3 random numbers:{[random() for _ in range(3)]}\")\n",
    "\n",
    "# Just to prove the seeding worked\n",
    "seed(1)\n",
    "print(f\"The same random number as before (seeded with 1): {random()}\")"
   ]
  },
  {
   "cell_type": "markdown",
   "metadata": {},
   "source": [
    "2. The `numpy` library (*Recommended*)\n",
    "    \n",
    "    The legacy random number generator in numpy, `numpy.random.rand()`, also uses the Mersenne Twister by default. The newer random number generator infrastructure in numpy (which you should use) provides a variety of PRNGs, but by default uses the Permuted Congruential Generator, which the numpy developers argue has better statistical properties and performance than the Mersenne Twister. You can read about the numpy's new RNG infrastructure [here](https://numpy.org/doc/stable/reference/random/index.html). This infrastructure also has an advanced seeding strategy. I recommend using this option as you'll likely be using numpy anyways. "
   ]
  },
  {
   "cell_type": "code",
   "execution_count": 10,
   "metadata": {},
   "outputs": [
    {
     "name": "stdout",
     "output_type": "stream",
     "text": [
      "A random number: [0.41442309 0.68032643 0.52008339]\n",
      "A random number seeded with 1: 0.5118216247002567\n",
      "An array of 3 random numbers: [0.05483007 0.68351846 0.43674472]\n",
      "The same random number as before (seeded with 1): 0.5118216247002567\n",
      "An array of 3 random numbers from a standard normal distribution: [ 1.51875892 -1.40948268 -1.13912718]\n",
      "A random number generated with the Mersenne Twister: 0.7415861868308409\n",
      "A random number generated with the Mersenne Twister in the old way: 0.4999869561958965\n"
     ]
    }
   ],
   "source": [
    "# NUMPY.RANDOM LIBRARY EXAMPLES\n",
    "import numpy as np\n",
    "\n",
    "# Generate a random number\n",
    "generator = np.random.default_rng()\n",
    "print(f\"A random number: {generator.random(3)}\")\n",
    "\n",
    "# Generate a seeded random number\n",
    "generator = np.random.default_rng(np.random.SeedSequence(1)) # Set up the generator with a seed. Here I'm using 1. Once again, don't use 1.\n",
    "# Note that you could also do np.random.default_rng(1), but the SeedSequence class provides an extra line of defense againts accidental seeding mistakes.\n",
    "print(f\"A random number seeded with 1: {generator.random()}\")\n",
    "\n",
    "# Generate an array of 3 random numbers using the default RGN:\n",
    "generator = np.random.default_rng()\n",
    "print(f\"An array of 3 random numbers: {generator.random(3)}\")\n",
    "\n",
    "# Proving that the seeding worked. Also note that you don't have to assign np.random.default_rng() to a variable. Doing so just makes your code a little messy.\n",
    "print(f\"The same random number as before (seeded with 1): {np.random.default_rng(np.random.SeedSequence(1)).random()}\")\n",
    "\n",
    "# So far, we've been getting random numbers in a uniform distribution, but what if we want our random numbers to form a normal distribution? Note that there are other distributions available; See the documentation.\n",
    "print(f\"An array of 3 random numbers from a standard normal distribution: {np.random.default_rng().standard_normal(3)}\")\n",
    "\n",
    "# Finally, what if we want to use a different PRNG in numpy?\n",
    "print(f\"A random number generated with the Mersenne Twister: {np.random.Generator(np.random.MT19937()).random()}\")\n",
    "\n",
    "# Which also has a shorthand in numpy (performing random number generation in the old way)\n",
    "print(f\"A random number generated with the Mersenne Twister in the old way: {np.random.rand()}\")\n",
    "\n",
    "random_numbers = generator.random(10**8)"
   ]
  },
  {
   "cell_type": "code",
   "execution_count": 11,
   "metadata": {},
   "outputs": [
    {
     "name": "stdout",
     "output_type": "stream",
     "text": [
      "   100000000:     0.460     0.289\n",
      "   100000000:     0.491     0.288\n",
      "   100000000:     0.501     0.289\n",
      "   100000000:     0.500     0.289\n",
      "   100000000:     0.500     0.289\n",
      "   100000000:     0.500     0.289\n",
      "   100000000:     0.500     0.289\n"
     ]
    },
    {
     "data": {
      "image/png": "[encoded data removed]",
      "text/plain": [
       "<Figure size 1200x300 with 7 Axes>"
      ]
     },
     "metadata": {},
     "output_type": "display_data"
    }
   ],
   "source": [
    "fig, ax = plt.subplots(ncols=7, sharex=True, sharey=True, figsize=(12, 3))\n",
    "\n",
    "for i, o in enumerate(range(2, 9)):\n",
    "    ax[i].hist(random_numbers[:10**o], bins=10, range=(0,1), density=True)\n",
    "    ax[i].set_title(f\"N=10^{o}\")\n",
    "    print(f\"{10**8:>12}:{np.mean(random_numbers[:10**o]):>10.3f}{np.std(random_numbers[:10**o]):>10.3f}\")\n",
    "\n",
    "ax[0].set_xlim(0, 1)\n",
    "plt.show()"
   ]
  },
  {
   "cell_type": "code",
   "execution_count": null,
   "metadata": {},
   "outputs": [],
   "source": []
  }
 ],
 "metadata": {
  "kernelspec": {
   "display_name": "Python 3 (ipykernel)",
   "language": "python",
   "name": "python3"
  },
  "language_info": {
   "codemirror_mode": {
    "name": "ipython",
    "version": 3
   },
   "file_extension": ".py",
   "mimetype": "text/x-python",
   "name": "python",
   "nbconvert_exporter": "python",
   "pygments_lexer": "ipython3",
   "version": "3.11.5"
  }
 },
 "nbformat": 4,
 "nbformat_minor": 2
}
