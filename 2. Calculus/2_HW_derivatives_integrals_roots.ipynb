{
 "cells": [
  {
   "cell_type": "markdown",
   "metadata": {},
   "source": [
    "# Derivatives, Integrals, and Roots #\n",
    "\n",
    "**Due Date: Tuesday, February 13th, 2024 at 11:59PM**\n",
    "\n",
    "**To submit your homework:**\n",
    "\n",
    "*IMPORTANT: Some of the following exercises request derivations. The solutions to these should be submitted in a PDF document (do not submit image files!) with the problem numbers clearly labelled. Please write clearly and make sure your work can be clearly read and followed. The Adobe Scan phone app is free for BU students, so please use that (or a similar app or an actual scanner) rather than just taking pictures and converting them into pdfs so that I can easily read your work and leave comments if necessary.* \n",
    "\n",
    "1. Name this file hw3.ipynb. The separate document with your derivations should be submitted as a PDF (No Image Files) and named hw3.pdf. Dropbox will automatically add your name to the file names. Please make sure you are not logged into someone else's dropbox account when submitting the homework. \n",
    "2. Submit your homework [here](https://www.dropbox.com/request/6IozkuYeb6msLRPvGI2S).\n",
    "3. If you submitted your homework but want to update the submission, submit a second file where the name is changed by adding \"-final\" to the end of the file name. For example, \"hw3-final.ipynb\" would be the updated jupyter notebook and/or \"hw3-final.pdf\" would be the updated derivation document."
   ]
  },
  {
   "cell_type": "markdown",
   "metadata": {},
   "source": [
    "## Problem 1: Finite difference formulas. ##"
   ]
  },
  {
   "cell_type": "markdown",
   "metadata": {},
   "source": [
    "**Task 1.1:** Derive the 5-point finite difference approximation to the second derivative of the function f(x):\n",
    "\n",
    "$$ 12h^2 f''(x) = -f(x-2h)+16f(x-h)-30f(x)+16f(x+h)-f(x+2h) $$\n",
    "\n",
    "*Submit your solution in a separate PDF document. See submission instructions at the top of this Notebook.*"
   ]
  },
  {
   "cell_type": "markdown",
   "metadata": {},
   "source": [
    "**Task 1.2:** Write a function to evaluate the first derivative of the function $f(x)=cos(x)$ using the 5-point finite difference formula (we did this using the 3-point finite difference formula in class).\n",
    "\n",
    "The specifications for the function are:\n",
    "\n",
    "*Input:* x, h\n",
    "\n",
    "*Output:* $\\frac{d}{dx}cos(x)$ (exact), $\\frac{d}{dx}cos(x)$ (numerical)\n",
    "\n",
    "Here, x is the point of evaluation of the derivative and h is the finite difference element.\n",
    "\n",
    "*Enter your solution in the cell below*"
   ]
  },
  {
   "cell_type": "code",
   "execution_count": null,
   "metadata": {},
   "outputs": [],
   "source": []
  },
  {
   "cell_type": "markdown",
   "metadata": {},
   "source": [
    "**Task 1.3:** Use the function you developed in *Task 1.2* and the function we developed in class for the 3-point distance formula to calculate the error\n",
    "\n",
    "$$ error = \\frac{d}{dx}cos(x) \\; \\mathrm{(exact)} - \\frac{d}{dx}cos(x) \\; \\mathrm{(numerical)} $$\n",
    "\n",
    "for given values of x and h. Make a plot of the error vs. h for x=1 (radians) and h ranging from $10^{-5}$ to $\\frac{1}{2}$. The plot should show the results for both the 3-point (which we did in class) and 5-point approximations.\n",
    "\n",
    "*Enter your solution in the cell below*"
   ]
  },
  {
   "cell_type": "code",
   "execution_count": null,
   "metadata": {},
   "outputs": [],
   "source": []
  },
  {
   "cell_type": "markdown",
   "metadata": {},
   "source": [
    "***\n",
    "\n",
    "## Problem 2: Numerical Integration ##\n",
    "\n",
    "**Task 2.1** It is possible to improve on the trapezoidal rule by approximating the function f(x) using a quadratic polynomial. The result\n",
    "\n",
    "$$ \\int_{a}^b f(x)dx \\approx \\frac{\\Delta x}{3} \\left [ f(a) + \\sum_{n=0}^{(N-3)/2} 4f(x_{2n+1}) + 2f(x_{2n+2}) + f(b) \\right ]$$\n",
    "\n",
    "is known as Simpson's Rule. Derive Simpson's rule. \n",
    "\n",
    "*Submit your solution in a separate PDF document. See submission instructions at the top of this Notebook.*\n"
   ]
  },
  {
   "cell_type": "markdown",
   "metadata": {},
   "source": [
    "**Task 2.2:** Write functions to evaluate the integral of the function $f(x) = sin(x)$ using the Simpson's rule (like we did for the trapezoidal rule in class).\n",
    "\n",
    "The specifications for the functions are:\n",
    "\n",
    "*Input:* a, b, N\n",
    "\n",
    "*Output:* $\\int_{a}^{b}sin(x)dx$ (exact), $\\int_{a}^{b}sin(x)dx$ (numerical)\n",
    "\n",
    "Here, a and b are the endpoints of the integration and N is the number of intervals so that $h=(b-a)/N$.\n",
    "\n",
    "*Enter your solution in the cell below*"
   ]
  },
  {
   "cell_type": "code",
   "execution_count": null,
   "metadata": {},
   "outputs": [],
   "source": []
  },
  {
   "cell_type": "markdown",
   "metadata": {},
   "source": [
    "**Task 2.3:** Using the function written in *Task 2.2*, with $a=0$ and $b=\\pi$, calculate the error:\n",
    "\n",
    "$$ error = \\int_{a}^{b}sin(x)dx\\; \\mathrm{(exact)}-\\int_{a}^{b}sin(x)dx\\; \\mathrm{(numerical)} $$\n",
    "\n",
    "Make a plot of the error vs. N for N ranging from 4 to 128. The plot should show the results for the trapezoidal rule (which we did in class) and Simpson's rule.\n",
    "\n",
    "*Enter your solution in the cell below*"
   ]
  },
  {
   "cell_type": "code",
   "execution_count": null,
   "metadata": {},
   "outputs": [],
   "source": []
  },
  {
   "cell_type": "markdown",
   "metadata": {},
   "source": [
    "*** \n",
    "\n",
    "## Problem 3: Root finding ##\n",
    "\n",
    "**Task 3.1:** In class, we developed code for finding the roots of $tanh(x)=0$ using the bisection method and the Newton-Raphson method. Here, apply the same methods to find the minimum of the Lennard Jones equation, \n",
    "\n",
    "$$ V_{LJ}(r) = 4\\epsilon \\left[ \\left( \\frac{\\sigma}{r} \\right)^{12} - \\left( \\frac{\\sigma}{r} \\right)^6 \\right] $$\n",
    "\n",
    "for argon ($\\epsilon = 0.238 \\; kcal \\; mol^{-1}$, $\\sigma = 3.405 \\; \\AA$), where r is the internuclear distance between the two atoms.\n",
    "\n",
    "*Enter your solution in the cell below*"
   ]
  },
  {
   "cell_type": "code",
   "execution_count": null,
   "metadata": {},
   "outputs": [],
   "source": []
  },
  {
   "cell_type": "markdown",
   "metadata": {},
   "source": [
    "**Task 3.2:** Plot the Lennard Jones Equation and draw \"trajectories\" showing the evolution of the estimate of the minimum. Also, plot the estimate of the root vs the number of iterations for each method. \n",
    "\n",
    "*Enter your solution in the cell below*"
   ]
  },
  {
   "cell_type": "code",
   "execution_count": null,
   "metadata": {},
   "outputs": [],
   "source": []
  },
  {
   "cell_type": "markdown",
   "metadata": {},
   "source": [
    "***\n",
    "## Additional Tasks: These are required for graduate students and optional for undergraduate students. Undergraduate students will recieve extra credit for completing them. ##\n",
    "\n",
    "**Additional Task 1:** It is possible to improve on Simpson's rule by approximating the function f(x) using a quartic polynomial. The result\n",
    "\n",
    "$$ \\int_{x-2h}^{x+2h} f(x')dx' = (2h/45)[7f(x-2h)+32f(x-h)+12f(x)+32f(x+h)+7f(x+2h)] $$\n",
    "\n",
    "is known as Bode's rule. Derive Bode's rule noting that you must employ a 5-point approximation to the second and fourth derivatives of the Taylor series. The 5-point approximation to the second derivative is given in *Task 1.2*. The 5-point approximation to the fourth derivative is:\n",
    "\n",
    "$$h^4f^{iv}(x) = f(x-2h)-4f(x-h)+6f(x)-4f(x+h)+f(x+2h)$$\n",
    "\n",
    "Show that the truncation error is on the order of $h^7$.\n",
    "\n",
    "*Submit your solution in a separate PDF document. See submission instructions at the top of this Notebook.*"
   ]
  },
  {
   "cell_type": "markdown",
   "metadata": {},
   "source": [
    "**Additional Task 2:** Write functions to evaluate the integral of the function $f(x) = sin(x)$ using the Bode's rule (like we did for the trapezoidal rule in class and you did for Simpson's rule in *Task 2.2*).\n",
    "\n",
    "The specifications for the functions are:\n",
    "\n",
    "*Input:* a, b, N\n",
    "\n",
    "*Output:* $\\int_{a}^{b}sin(x)dx$ (exact), $\\int_{a}^{b}sin(x)dx$ (numerical)\n",
    "\n",
    "Here, a and b are the endpoints of the integration and N is the number of intervals so that $h=(b-a)/N$.\n",
    "\n",
    "*Enter your solution in the cell below*"
   ]
  },
  {
   "cell_type": "code",
   "execution_count": null,
   "metadata": {},
   "outputs": [],
   "source": []
  },
  {
   "cell_type": "markdown",
   "metadata": {},
   "source": [
    "**Additional Task 3:** Using the function written in *Additional Task 2*, with $a=0$ and $b=\\pi$, calculate the error:\n",
    "\n",
    "$$ error = \\int_{a}^{b}sin(x)dx\\; \\mathrm{(exact)}-\\int_{a}^{b}sin(x)dx\\; \\mathrm{(numerical)} $$\n",
    "\n",
    "Make a plot of the error vs. N for N ranging from 4 to 128 (note that Bode's rule requires N to be a multiple of 4). The plot should show the results for the trapezoidal rule (which we did in class), Simpson's rule (from *Problem 2*), and Bode's rule.\n",
    "\n",
    "*Enter your solution in the cell below*"
   ]
  },
  {
   "cell_type": "code",
   "execution_count": null,
   "metadata": {},
   "outputs": [],
   "source": []
  },
  {
   "cell_type": "markdown",
   "metadata": {},
   "source": [
    "**Additional Task 4:** Numerically determine the first and second derivatives of the Lennard Jones function at its minimum. Use your results to make a Taylor Approximation of the Lennard Jones minimum. Plot your Taylor Approximation and the actual function to compare them. \n",
    "\n",
    "*Enter your solution in the cell below*"
   ]
  },
  {
   "cell_type": "code",
   "execution_count": null,
   "metadata": {},
   "outputs": [],
   "source": []
  },
  {
   "cell_type": "markdown",
   "metadata": {},
   "source": [
    "**Additional Task 5:** For the Lennard Jones equation, numerically calculate the 2nd virial coefficient using the equation:\n",
    "\n",
    "$$ B(T) = -2\\pi \\int_{0}^{\\infty}\\left[ e^{-\\beta V(r)}-1 \\right] r^2 dr $$\n",
    "\n",
    "*NOTE: This may require some controlled creativity.*\n",
    "\n",
    "*Enter your solution in the cell below*"
   ]
  },
  {
   "cell_type": "code",
   "execution_count": null,
   "metadata": {},
   "outputs": [],
   "source": []
  }
 ],
 "metadata": {
  "language_info": {
   "name": "python"
  },
  "orig_nbformat": 4
 },
 "nbformat": 4,
 "nbformat_minor": 2
}
