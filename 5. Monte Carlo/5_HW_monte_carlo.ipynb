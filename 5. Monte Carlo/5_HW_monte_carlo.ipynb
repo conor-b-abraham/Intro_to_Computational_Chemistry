{
 "cells": [
  {
   "cell_type": "markdown",
   "metadata": {},
   "source": [
    "# Assignment 7: Analyzing your Lennard-Jones Monte Carlo Simulation #\n",
    "\n",
    "**Due Date: Thursday, April 25th, 2024 at 11:59PM**\n",
    "\n",
    "**To submit your homework:**\n",
    "1. Name this file hw7.ipynb. Dropbox will automatically add your name to the file name. Please make sure you are not logged into someone else's dropbox account when submitting the homework. \n",
    "2. Submit your homework [here](https://www.dropbox.com/request/6IozkuYeb6msLRPvGI2S).\n",
    "3. If you submitted your homework but want to update the submission, submit a second file where the name is changed by adding \"-final\" to the end of the file name. For example, \"hw7-final.ipynb\" would be the update."
   ]
  },
  {
   "cell_type": "markdown",
   "metadata": {},
   "source": [
    "## Problem 1: Metropolis of a simple potential ##\n",
    "\n",
    "**Task 1.1:** Consider the asymmetric one-dimensional double well potential explored in class. Select trial moves from a uniform distribution of width $\\Delta x$ at temperature $T=0.1$. Use the Hamming distance as a measure of the rate of convergence in your simulation:\n",
    "\n",
    "$$ d(n) = \\int \\left[ \\rho_{\\text{exact}}(x) - \\rho_{n}(x) \\right]^2 dx $$\n",
    "\n",
    "Here $\\rho_{\\text{exact}}(x)$ is the exact normalized Boltzmann probability distribution. $\\rho_{n}(x)$ is your estimate of the probability distribution after $n$ steps in your simulation. \n",
    "\n",
    "**(a)** The rate of convergence in your simulation can be taken as the slope of $1/d(n)$ as a function of the number of steps $n$ in your simulation.  Plot the rate of convergence as a function of $\\Delta x$ one the range $\\Delta x = 0.1$ to $1.0$.  You should see a turnover behavior in the rate.   Identify the value of $\\Delta x$ that maximizes the rate of convergence. \n",
    "\n",
    "**(b)** Plot the average acceptance probability over the same range of $\\Delta x$.  Identify the acceptance probability that corresponds to the maximum rate of convergence.  How does your result compare with the “rule of thumb” that the acceptance probability should be $50\\%$.\n",
    "\n",
    "*Enter your solution in the cell below.*"
   ]
  },
  {
   "cell_type": "code",
   "execution_count": null,
   "metadata": {},
   "outputs": [],
   "source": []
  },
  {
   "cell_type": "markdown",
   "metadata": {},
   "source": [
    "## Problem 2: Metropolis of a Lennard-Jones Fluid ##\n",
    "\n",
    "**Task 2.1:** Simulate a simple Lennard-Jones fluid with periodic boundary conditions using Monte Carlo simulation.  For your initial conditions, set the particles on a regular lattice.  Trial moves of a randomly selected particle are randomly sampled from a uniform distribution in a ``cube'' of size cubeside.  Take the density to be 0.0291 $\\mathrm{mol/cm^3}$ and the temperature to be 120K. \n",
    "\n",
    "The trial move is accepted or rejected according to the Metropolis protocol. The exact value of cubeside should be adjusted according to the \"rule of thumb\" that you have on average a 50% acceptance ratio.  \n",
    "\n",
    "*TIP: You do not need to copy the Lennard-Jones Simulation code into this notebook. Just run the simulation and then read the output files into this notebook using: `np.loadtxt()`. To read the positions, forces, and velocity `.xyz` files you can copy the `readXYZ()` function provided in the **most recent** Lennard-Jones Simulation Notebook.*\n",
    "\n",
    "*Enter your solution in the cell below.*"
   ]
  },
  {
   "cell_type": "code",
   "execution_count": null,
   "metadata": {},
   "outputs": [],
   "source": []
  },
  {
   "cell_type": "markdown",
   "metadata": {},
   "source": [
    "**Task 2.2:** Compute the radial distribution function to characterize the structure of your system.  Further, compute the heat capacity of your fluid  by determining the mean-square fluctuations in the potential energy.  \n",
    "\n",
    "$$C_V(T) = \\frac{1}{k_B T^2} \\left[ \\langle U^2 \\rangle - \\langle U \\rangle^2 \\right]$$\n",
    "\n",
    "*Enter your solution in the cell below.*"
   ]
  },
  {
   "cell_type": "code",
   "execution_count": null,
   "metadata": {},
   "outputs": [],
   "source": []
  },
  {
   "cell_type": "markdown",
   "metadata": {},
   "source": [
    "***\n",
    "## Additional Tasks: These are required for graduate students and optional for undergraduate students. Undergraduate students will recieve extra credit for completing them. ##\n",
    "\n",
    "**Additional Task 1:** Compute the average pressure of your system from **Problem 2** using two methods.\n",
    "\n",
    "**(a)** Calculate the average pressure of the system over a long Monte Carlo run using the virial estimator:\n",
    "\n",
    " $$ p = \\frac{1}{3V} \\left[ \\frac{m}{2} \\langle  {\\bf v}^2 \\rangle + \\langle {\\bf r} \\cdot {\\bf F}({\\bf r}) \\rangle \\right] $$\n",
    "\n",
    "**(b)** Compute the radial distribution function g(r) over the same run. Plot this function. Determine the system pressure using numerical integration to average the virial estimator over the pair probability (remember this is in one-dimension).  Compare the two values of the pressure. \n",
    "\n",
    "*Enter your solution in the cell below.*"
   ]
  },
  {
   "cell_type": "code",
   "execution_count": null,
   "metadata": {},
   "outputs": [],
   "source": []
  }
 ],
 "metadata": {
  "language_info": {
   "name": "python"
  }
 },
 "nbformat": 4,
 "nbformat_minor": 2
}
