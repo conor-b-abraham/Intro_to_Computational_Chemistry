{
 "cells": [
  {
   "cell_type": "markdown",
   "metadata": {},
   "source": [
    "# Monte Carlo Metropolis #\n",
    "\n",
    "We'll implement the Metropolis Monte Carlo Algorithm for a 1 dimensional system where a \"mobile\" atom is trapped between two \"immobile\" atoms, with all atoms represented by Lennard-Jones potentials. "
   ]
  },
  {
   "cell_type": "code",
   "execution_count": null,
   "metadata": {},
   "outputs": [],
   "source": [
    "import numpy as np\n",
    "from tqdm.notebook import tqdm\n",
    "\n",
    "def metropolis_1D(U, T, x0, dx, nsteps):\n",
    "    '''\n",
    "    Perform Metropolis Monte Carlo on a 1D system with a predefined potential\n",
    "\n",
    "    Parameters\n",
    "    ----------\n",
    "    U : function(float) --> float\n",
    "        A function that calculates the potential for a given value of x\n",
    "    T : float\n",
    "        Temperature in K\n",
    "    x0 : float or tuple(float, float)\n",
    "        The initial x position or the domain in which to get random initial x position\n",
    "    dx : float\n",
    "        The standard deviation of the normal distribution to sample random numbers from\n",
    "    nsteps : int\n",
    "        The number of monte carlo steps to take\n",
    "\n",
    "    Returns\n",
    "    -------\n",
    "    xvalues : np.ndarray(dtype=float)\n",
    "        The x positions at each step\n",
    "    uvalues : np.ndarray(dtype=float)\n",
    "        The potential values at each step\n",
    "    steps : numpy.ndarray(dtype=int)\n",
    "        The step numbers\n",
    "    '''\n",
    "    k=0.001987204259 # boltzmann constant (kcal/molK)\n",
    "    rng = np.random.default_rng() # Using 64-bit Permuted Congruential Generator\n",
    "    if isinstance(x0, tuple): # Random generation of initial position\n",
    "        x0 = rng.uniform(x0[0], x0[1])\n",
    "    \n",
    "    return xvalues, uvalues, steps"
   ]
  },
  {
   "cell_type": "code",
   "execution_count": null,
   "metadata": {},
   "outputs": [],
   "source": [
    "sigma = 3.405\n",
    "epsilon = 0.238\n",
    "lj = lambda x: 4*epsilon*(((sigma/x)**12)-((sigma/x)**6))\n",
    "\n",
    "potential_2lj = lambda x: lj(x+7)+lj(x-7)\n",
    "\n",
    "xvalues, uvalues, steps = metropolis_1D(potential_2lj, 120, (-3.5, 3.5), 0.1, 2000000)"
   ]
  },
  {
   "cell_type": "code",
   "execution_count": null,
   "metadata": {},
   "outputs": [],
   "source": [
    "%%capture\n",
    "import matplotlib.pyplot as plt\n",
    "from matplotlib.patches import Ellipse\n",
    "import matplotlib.animation as animation\n",
    "import functools\n",
    "from IPython.display import HTML\n",
    "\n",
    "def animated_plot():\n",
    "    fig = plt.figure(figsize=(6.5, 10))\n",
    "    gs = plt.GridSpec(ncols=1, nrows=3, height_ratios=[4, 6, 6], hspace=0.1,\n",
    "                      bottom=0.06, top=0.99, left=0.12, right=0.99)\n",
    "    x1 = -7\n",
    "    x3 = 7\n",
    "    sigma = 3.405\n",
    "\n",
    "    yin= 40/((16*1.2)*0.92)\n",
    "    xinperdp = (0.82*6.5)/(x3-x1)\n",
    "    ydp = yin/xinperdp\n",
    "\n",
    "    ax = [fig.add_subplot(gs[0])]\n",
    "    ax = ax + [fig.add_subplot(gs[1], sharex=ax[0]), fig.add_subplot(gs[2], sharex=ax[0])]\n",
    "\n",
    "    diameter = sigma*2**(1/6)\n",
    "    bead1 = Ellipse(xy=(x1, 0), width=diameter, height=diameter, facecolor=\"tab:orange\", edgecolor=\"none\")\n",
    "    ax[0].add_patch(bead1)\n",
    "    bead3 = Ellipse(xy=(x3, 0), width=diameter, height=diameter, facecolor=\"tab:purple\", edgecolor=\"none\")\n",
    "    ax[0].add_patch(bead3)\n",
    "    bead2 = Ellipse(xy=(xvalues[0], 0), width=diameter, height=diameter, facecolor=\"none\", edgecolor=\"tab:blue\")\n",
    "    ax[0].add_patch(bead2)\n",
    "    center2, = ax[0].plot(xvalues[0], 0, color=\"tab:blue\", markersize=4, marker=\"o\")\n",
    "\n",
    "    ax[0].set_xlim(x1, x3)\n",
    "    ax[0].axvline(x3-sigma*2**(1/6), linewidth=0.75, color=\"k\")\n",
    "    ax[0].axvline(x1+sigma*2**(1/6), linewidth=0.75, color=\"k\")\n",
    "    ax[0].set_ylim(-ydp/2, ydp/2)\n",
    "    ax[0].tick_params(left=False, bottom=True, labelleft=False, labelbottom=False)\n",
    "    \n",
    "    ax[1].axhline(0, linewidth=0.75, color=\"k\")\n",
    "    ax[1].axvline(x3-sigma*2**(1/6), linewidth=0.75, color=\"k\")\n",
    "    ax[1].axvline(x1+sigma*2**(1/6), linewidth=0.75, color=\"k\")\n",
    "    x = np.linspace(xvalues.min(), xvalues.max(), 1000)\n",
    "    ax[1].plot(x, potential_2lj(x), color=\"k\")\n",
    "    vmarker, = ax[1].plot(xvalues[0], uvalues[0], color=\"tab:blue\", markersize=4, marker=\"o\")\n",
    "    ax[1].set_ylim(-0.25, 0.5)\n",
    "    ax[1].set_ylabel(r\"$V_{LJ}(x)\\mathrm{, kcal} \\; \\mathrm{mol}^{-1}$\")\n",
    "    ax[1].set_xlabel(r\"$x_2$\")\n",
    "\n",
    "    HIST_BINS = np.linspace(-7, 7, 141)\n",
    "    ax[2].axhline(0, linewidth=0.75, color=\"k\")\n",
    "    ax[2].axvline(x3-sigma*2**(1/6), linewidth=0.75, color=\"k\")\n",
    "    ax[2].axvline(x1+sigma*2**(1/6), linewidth=0.75, color=\"k\")\n",
    "    _, _, bar_container = ax[2].hist([xvalues[0]], HIST_BINS, density=True)\n",
    "    ax[2].set_ylabel(r\"$\\rho(x)$\")\n",
    "    ax[2].set_xlabel(r\"$x$\")\n",
    "\n",
    "    def run(i, bar_container):\n",
    "        '''\n",
    "        Function passed to FuncAnimation to update plot\n",
    "        '''\n",
    "        bead2.set_center((xvalues[i], 0))\n",
    "        center2.set_data([xvalues[i]], [0])\n",
    "        vmarker.set_data([xvalues[i]], [uvalues[i]])\n",
    "\n",
    "        n, _ = np.histogram(xvalues[:i+1], HIST_BINS, density=True)\n",
    "        for count, rect in zip(n, bar_container.patches):\n",
    "            rect.set_height(count)\n",
    "        ax[2].set_ylim(0,np.max((n.max()*1.1, 0.5)))\n",
    "        return bead2, center2, vmarker, bar_container.patches\n",
    "\n",
    "    run_set = functools.partial(run, bar_container=bar_container)\n",
    "    ani = animation.FuncAnimation(fig, run_set, frames=np.arange(1, len(xvalues), 20000), interval=300)\n",
    "    return ani\n",
    "\n",
    "ani = animated_plot().to_jshtml()"
   ]
  },
  {
   "cell_type": "code",
   "execution_count": null,
   "metadata": {},
   "outputs": [],
   "source": [
    "HTML(ani)"
   ]
  },
  {
   "cell_type": "markdown",
   "metadata": {},
   "source": [
    "We can use Metropolis for other potentials too. Here, we'll use a quartic polynomial as our potential."
   ]
  },
  {
   "cell_type": "code",
   "execution_count": null,
   "metadata": {},
   "outputs": [],
   "source": [
    "potential_quartic = lambda x: 6.7*x**4 + x**3 - 2.6*x**2\n",
    "xvalues, uvalues, steps = metropolis_1D(potential_quartic, 10, -0.5, 0.01, 2000000)"
   ]
  },
  {
   "cell_type": "code",
   "execution_count": null,
   "metadata": {},
   "outputs": [],
   "source": [
    "%%capture\n",
    "\n",
    "def animated_plot():\n",
    "    fig = plt.figure(figsize=(6.5, 6))\n",
    "    gs = plt.GridSpec(ncols=1, nrows=2, height_ratios=[6, 6], hspace=0.1,\n",
    "                      bottom=0.1, top=0.99, left=0.12, right=0.99)\n",
    "\n",
    "    ax = [fig.add_subplot(gs[0])]\n",
    "    ax = ax + [fig.add_subplot(gs[1], sharex=ax[0])]\n",
    "    \n",
    "    ax[0].axhline(0, linewidth=0.75, color=\"k\")\n",
    "    x = np.linspace(-1, 1, 1000)\n",
    "    y = potential_quartic(x)\n",
    "    ax[0].plot(x, y, color=\"k\")\n",
    "    vmarker, = ax[0].plot(xvalues[0], uvalues[0], color=\"tab:blue\", markersize=4, marker=\"o\")\n",
    "    ax[0].set_ylim(y.min()*1.1, y.max()*1.1)\n",
    "    ax[0].set_ylabel(r\"$V_{q}(x)$\")\n",
    "    ax[0].set_xlabel(r\"$x$\")\n",
    "    ax[0].set_ylim(-0.5, 1.5)\n",
    "\n",
    "    HIST_BINS = np.arange(xvalues.min(), xvalues.max(), 0.01)\n",
    "    ax[1].axhline(0, linewidth=0.75, color=\"k\")\n",
    "    _, _, bar_container = ax[1].hist([xvalues[0]], HIST_BINS, density=True)\n",
    "    ax[1].set_ylabel(r\"$\\rho(x)$\")\n",
    "    ax[1].set_xlabel(r\"$x$\")\n",
    "\n",
    "    def run(i, bar_container):\n",
    "        '''\n",
    "        Function passed to FuncAnimation to update plot\n",
    "        '''\n",
    "        vmarker.set_data([xvalues[i]], [uvalues[i]])\n",
    "\n",
    "        n, _ = np.histogram(xvalues[:i+1], HIST_BINS, density=True)\n",
    "        for count, rect in zip(n, bar_container.patches):\n",
    "            rect.set_height(count)\n",
    "        ax[1].set_ylim(0,np.max((n.max()*1.1, 0.5)))\n",
    "        return vmarker, bar_container.patches\n",
    "\n",
    "    run_set = functools.partial(run, bar_container=bar_container)\n",
    "    ani = animation.FuncAnimation(fig, run_set, frames=np.arange(1, len(xvalues), 20000), interval=300)\n",
    "    return ani\n",
    "\n",
    "ani = animated_plot().to_jshtml()"
   ]
  },
  {
   "cell_type": "code",
   "execution_count": null,
   "metadata": {},
   "outputs": [],
   "source": [
    "HTML(ani)"
   ]
  },
  {
   "cell_type": "code",
   "execution_count": null,
   "metadata": {},
   "outputs": [],
   "source": [
    "xvalues, uvalues, steps = metropolis_1D(potential_quartic, 120, -0.5, 0.01, 2000000)"
   ]
  },
  {
   "cell_type": "code",
   "execution_count": null,
   "metadata": {},
   "outputs": [],
   "source": [
    "%%capture\n",
    "\n",
    "ani = animated_plot().to_jshtml()"
   ]
  },
  {
   "cell_type": "code",
   "execution_count": null,
   "metadata": {},
   "outputs": [],
   "source": [
    "HTML(ani)"
   ]
  },
  {
   "cell_type": "code",
   "execution_count": null,
   "metadata": {},
   "outputs": [],
   "source": []
  }
 ],
 "metadata": {
  "kernelspec": {
   "display_name": "Python 3 (ipykernel)",
   "language": "python",
   "name": "python3"
  },
  "language_info": {
   "codemirror_mode": {
    "name": "ipython",
    "version": 3
   },
   "file_extension": ".py",
   "mimetype": "text/x-python",
   "name": "python",
   "nbconvert_exporter": "python",
   "pygments_lexer": "ipython3",
   "version": "3.11.5"
  }
 },
 "nbformat": 4,
 "nbformat_minor": 2
}
